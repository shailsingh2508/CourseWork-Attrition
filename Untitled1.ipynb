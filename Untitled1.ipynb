{
 "cells": [
  {
   "cell_type": "code",
   "execution_count": 1,
   "metadata": {},
   "outputs": [],
   "source": [
    "import matplotlib.pyplot as plt\n",
    "import seaborn as sns\n",
    "from pyspark.sql import functions as F"
   ]
  },
  {
   "cell_type": "code",
   "execution_count": 2,
   "metadata": {},
   "outputs": [],
   "source": [
    "df =spark.read.option('header','true').option('inferSchema','true').csv(\"IBM_HR_Data.csv\")"
   ]
  },
  {
   "cell_type": "code",
   "execution_count": 3,
   "metadata": {},
   "outputs": [
    {
     "data": {
      "text/plain": [
       "<bound method DataFrame.printSchema of DataFrame[Age: int, Attrition: string, BusinessTravel: string, DailyRate: int, Department: string, DistanceFromHome: int, Education: int, EducationField: string, EmployeeCount: int, EmployeeNumber: string, Application ID: string, EnvironmentSatisfaction: int, Gender: string, HourlyRate: string, JobInvolvement: int, JobLevel: int, JobRole: string, JobSatisfaction: int, MaritalStatus: string, MonthlyIncome: int, MonthlyRate: int, NumCompaniesWorked: int, Over18: string, OverTime: string, PercentSalaryHike: int, PerformanceRating: int, RelationshipSatisfaction: int, StandardHours: int, StockOptionLevel: int, TotalWorkingYears: int, TrainingTimesLastYear: int, WorkLifeBalance: int, YearsAtCompany: int, YearsInCurrentRole: int, YearsSinceLastPromotion: int, YearsWithCurrManager: int, Employee Source: string]>"
      ]
     },
     "execution_count": 3,
     "metadata": {},
     "output_type": "execute_result"
    }
   ],
   "source": [
    "df.printSchema"
   ]
  },
  {
   "cell_type": "code",
   "execution_count": 4,
   "metadata": {},
   "outputs": [
    {
     "data": {
      "text/plain": [
       "Row(Age=41, Attrition='Voluntary Resignation', BusinessTravel='Travel_Rarely', DailyRate=1102, Department='Sales', DistanceFromHome=1, Education=2, EducationField='Life Sciences', EmployeeCount=1, EmployeeNumber='1', Application ID='123456', EnvironmentSatisfaction=2, Gender='Female', HourlyRate='94', JobInvolvement=3, JobLevel=2, JobRole='Sales Executive', JobSatisfaction=4, MaritalStatus='Single', MonthlyIncome=5993, MonthlyRate=19479, NumCompaniesWorked=8, Over18='Y', OverTime='Yes', PercentSalaryHike=11, PerformanceRating=3, RelationshipSatisfaction=1, StandardHours=80, StockOptionLevel=0, TotalWorkingYears=8, TrainingTimesLastYear=0, WorkLifeBalance=1, YearsAtCompany=6, YearsInCurrentRole=4, YearsSinceLastPromotion=0, YearsWithCurrManager=5, Employee Source='Referral')"
      ]
     },
     "execution_count": 4,
     "metadata": {},
     "output_type": "execute_result"
    }
   ],
   "source": [
    "df.first()"
   ]
  },
  {
   "cell_type": "code",
   "execution_count": 3,
   "metadata": {},
   "outputs": [
    {
     "name": "stdout",
     "output_type": "stream",
     "text": [
      "['Age', 'Attrition', 'BusinessTravel', 'DailyRate', 'Department', 'DistanceFromHome', 'Education', 'EducationField', 'EmployeeCount', 'EmployeeNumber', 'Application ID', 'EnvironmentSatisfaction', 'Gender', 'HourlyRate', 'JobInvolvement', 'JobLevel', 'JobRole', 'JobSatisfaction', 'MaritalStatus', 'MonthlyIncome', 'MonthlyRate', 'NumCompaniesWorked', 'Over18', 'OverTime', 'PercentSalaryHike', 'PerformanceRating', 'RelationshipSatisfaction', 'StandardHours', 'StockOptionLevel', 'TotalWorkingYears', 'TrainingTimesLastYear', 'WorkLifeBalance', 'YearsAtCompany', 'YearsInCurrentRole', 'YearsSinceLastPromotion', 'YearsWithCurrManager', 'Employee Source']\n"
     ]
    },
    {
     "data": {
      "text/plain": [
       "23436"
      ]
     },
     "execution_count": 3,
     "metadata": {},
     "output_type": "execute_result"
    }
   ],
   "source": [
    "print(df.columns)\n",
    "df.count()"
   ]
  },
  {
   "cell_type": "code",
   "execution_count": 3,
   "metadata": {},
   "outputs": [
    {
     "data": {
      "text/plain": [
       "23422"
      ]
     },
     "execution_count": 3,
     "metadata": {},
     "output_type": "execute_result"
    }
   ],
   "source": [
    "df=df.dropDuplicates()\n",
    "df.count()"
   ]
  },
  {
   "cell_type": "code",
   "execution_count": 5,
   "metadata": {},
   "outputs": [
    {
     "data": {
      "text/plain": [
       "DataFrame[summary: string, Age: string, Attrition: string, BusinessTravel: string, DailyRate: string, Department: string, DistanceFromHome: string, Education: string, EducationField: string, EmployeeCount: string, EmployeeNumber: string, Application ID: string, EnvironmentSatisfaction: string, Gender: string, HourlyRate: string, JobInvolvement: string, JobLevel: string, JobRole: string, JobSatisfaction: string, MaritalStatus: string, MonthlyIncome: string, MonthlyRate: string, NumCompaniesWorked: string, Over18: string, OverTime: string, PercentSalaryHike: string, PerformanceRating: string, RelationshipSatisfaction: string, StandardHours: string, StockOptionLevel: string, TotalWorkingYears: string, TrainingTimesLastYear: string, WorkLifeBalance: string, YearsAtCompany: string, YearsInCurrentRole: string, YearsSinceLastPromotion: string, YearsWithCurrManager: string, Employee Source: string]"
      ]
     },
     "execution_count": 5,
     "metadata": {},
     "output_type": "execute_result"
    }
   ],
   "source": [
    "df.describe()"
   ]
  },
  {
   "cell_type": "code",
   "execution_count": 25,
   "metadata": {},
   "outputs": [
    {
     "data": {
      "text/plain": [
       "Row(Age=41, Attrition='Current employee', BusinessTravel='Non-Travel', DailyRate=267, Department='Sales', DistanceFromHome=10, Education=2, EducationField='Medical', EmployeeCount=1, EmployeeNumber='3422', Application ID='126877', EnvironmentSatisfaction=1, Gender='Male', HourlyRate='46', JobInvolvement=2, JobLevel=2, JobRole='Healthcare Representative', JobSatisfaction=4, MaritalStatus='Married', MonthlyIncome=4876, MonthlyRate=14242, NumCompaniesWorked=0, Over18='Y', OverTime='No', PercentSalaryHike=14, PerformanceRating=3, RelationshipSatisfaction=4, StandardHours=80, StockOptionLevel=1, TotalWorkingYears=5, TrainingTimesLastYear=5, WorkLifeBalance=1, YearsAtCompany=3, YearsInCurrentRole=2, YearsSinceLastPromotion=0, YearsWithCurrManager=2, Employee Source='Indeed')"
      ]
     },
     "execution_count": 25,
     "metadata": {},
     "output_type": "execute_result"
    }
   ],
   "source": [
    "df.first()"
   ]
  },
  {
   "cell_type": "code",
   "execution_count": 26,
   "metadata": {},
   "outputs": [
    {
     "name": "stdout",
     "output_type": "stream",
     "text": [
      "root\n",
      " |-- Age: integer (nullable = true)\n",
      " |-- Attrition: string (nullable = true)\n",
      " |-- BusinessTravel: string (nullable = true)\n",
      " |-- DailyRate: integer (nullable = true)\n",
      " |-- Department: string (nullable = true)\n",
      " |-- DistanceFromHome: integer (nullable = true)\n",
      " |-- Education: integer (nullable = true)\n",
      " |-- EducationField: string (nullable = true)\n",
      " |-- EmployeeCount: integer (nullable = true)\n",
      " |-- EmployeeNumber: string (nullable = true)\n",
      " |-- Application ID: string (nullable = true)\n",
      " |-- EnvironmentSatisfaction: integer (nullable = true)\n",
      " |-- Gender: string (nullable = true)\n",
      " |-- HourlyRate: string (nullable = true)\n",
      " |-- JobInvolvement: integer (nullable = true)\n",
      " |-- JobLevel: integer (nullable = true)\n",
      " |-- JobRole: string (nullable = true)\n",
      " |-- JobSatisfaction: integer (nullable = true)\n",
      " |-- MaritalStatus: string (nullable = true)\n",
      " |-- MonthlyIncome: integer (nullable = true)\n",
      " |-- MonthlyRate: integer (nullable = true)\n",
      " |-- NumCompaniesWorked: integer (nullable = true)\n",
      " |-- Over18: string (nullable = true)\n",
      " |-- OverTime: string (nullable = true)\n",
      " |-- PercentSalaryHike: integer (nullable = true)\n",
      " |-- PerformanceRating: integer (nullable = true)\n",
      " |-- RelationshipSatisfaction: integer (nullable = true)\n",
      " |-- StandardHours: integer (nullable = true)\n",
      " |-- StockOptionLevel: integer (nullable = true)\n",
      " |-- TotalWorkingYears: integer (nullable = true)\n",
      " |-- TrainingTimesLastYear: integer (nullable = true)\n",
      " |-- WorkLifeBalance: integer (nullable = true)\n",
      " |-- YearsAtCompany: integer (nullable = true)\n",
      " |-- YearsInCurrentRole: integer (nullable = true)\n",
      " |-- YearsSinceLastPromotion: integer (nullable = true)\n",
      " |-- YearsWithCurrManager: integer (nullable = true)\n",
      " |-- Employee Source: string (nullable = true)\n",
      "\n"
     ]
    }
   ],
   "source": [
    "df.printSchema()"
   ]
  },
  {
   "cell_type": "code",
   "execution_count": 27,
   "metadata": {},
   "outputs": [
    {
     "name": "stdout",
     "output_type": "stream",
     "text": [
      "+---+----------------+--------------+---------+----------+----------------+---------+--------------+-------------+--------------+--------------+-----------------------+------+----------+--------------+--------+--------------------+---------------+-------------+-------------+-----------+------------------+------+--------+-----------------+-----------------+------------------------+-------------+----------------+-----------------+---------------------+---------------+--------------+------------------+-----------------------+--------------------+---------------+\n",
      "|Age|       Attrition|BusinessTravel|DailyRate|Department|DistanceFromHome|Education|EducationField|EmployeeCount|EmployeeNumber|Application ID|EnvironmentSatisfaction|Gender|HourlyRate|JobInvolvement|JobLevel|             JobRole|JobSatisfaction|MaritalStatus|MonthlyIncome|MonthlyRate|NumCompaniesWorked|Over18|OverTime|PercentSalaryHike|PerformanceRating|RelationshipSatisfaction|StandardHours|StockOptionLevel|TotalWorkingYears|TrainingTimesLastYear|WorkLifeBalance|YearsAtCompany|YearsInCurrentRole|YearsSinceLastPromotion|YearsWithCurrManager|Employee Source|\n",
      "+---+----------------+--------------+---------+----------+----------------+---------+--------------+-------------+--------------+--------------+-----------------------+------+----------+--------------+--------+--------------------+---------------+-------------+-------------+-----------+------------------+------+--------+-----------------+-----------------+------------------------+-------------+----------------+-----------------+---------------------+---------------+--------------+------------------+-----------------------+--------------------+---------------+\n",
      "| 41|Current employee|    Non-Travel|      267|     Sales|              10|        2|       Medical|            1|          3422|        126877|                      1|  Male|        46|             2|       2|Healthcare Repres...|              4|      Married|         4876|      14242|                 0|     Y|      No|               14|                3|                       4|           80|               1|                5|                    5|              1|             3|                 2|                      0|                   2|         Indeed|\n",
      "| 41|Current employee|    Non-Travel|      267|     Sales|              10|        2|       Medical|            1|          7181|        130636|                      4|  Male|        56|             3|       2|     Sales Executive|              4|       Single|         6230|      13430|                 6|     Y|      No|               14|                3|                       4|           80|               0|               16|                    3|              3|            14|                 3|                      1|                  10|           Seek|\n",
      "| 41|Current employee| Travel_Rarely|     1206|     Sales|              23|        2| Life Sciences|            1|          8411|        131866|                      2|Female|        60|             3|       2|     Sales Executive|              3|       Single|         4577|      24785|                 9|     Y|      No|               14|                3|                       1|           80|               0|                4|                    3|              3|             2|                 2|                      2|                   0|           Jora|\n",
      "+---+----------------+--------------+---------+----------+----------------+---------+--------------+-------------+--------------+--------------+-----------------------+------+----------+--------------+--------+--------------------+---------------+-------------+-------------+-----------+------------------+------+--------+-----------------+-----------------+------------------------+-------------+----------------+-----------------+---------------------+---------------+--------------+------------------+-----------------------+--------------------+---------------+\n",
      "only showing top 3 rows\n",
      "\n"
     ]
    }
   ],
   "source": [
    "df.show(3)"
   ]
  },
  {
   "cell_type": "code",
   "execution_count": 4,
   "metadata": {},
   "outputs": [],
   "source": [
    "df1=df.drop('Employee Source','YearsWithCurrManager','TrainingTimesLastYear','StandardHours','RelationshipSatisfaction',\n",
    "            'OverTime','JobRole','EmployeeCount','EmployeeNumber','Application ID',\n",
    "            'MonthlyRate','StockOptionLevel','Over18','HourlyRate','Education','TotalWorkingYears','NumCompaniesWorked','JobInvolvement')"
   ]
  },
  {
   "cell_type": "code",
   "execution_count": 13,
   "metadata": {},
   "outputs": [
    {
     "data": {
      "text/plain": [
       "['Age',\n",
       " 'Attrition',\n",
       " 'BusinessTravel',\n",
       " 'DailyRate',\n",
       " 'Department',\n",
       " 'DistanceFromHome',\n",
       " 'EducationField',\n",
       " 'EnvironmentSatisfaction',\n",
       " 'Gender',\n",
       " 'JobLevel',\n",
       " 'JobSatisfaction',\n",
       " 'MaritalStatus',\n",
       " 'MonthlyIncome',\n",
       " 'PercentSalaryHike',\n",
       " 'PerformanceRating',\n",
       " 'WorkLifeBalance',\n",
       " 'YearsAtCompany',\n",
       " 'YearsInCurrentRole',\n",
       " 'YearsSinceLastPromotion']"
      ]
     },
     "execution_count": 13,
     "metadata": {},
     "output_type": "execute_result"
    }
   ],
   "source": [
    "df1.columns"
   ]
  },
  {
   "cell_type": "code",
   "execution_count": 5,
   "metadata": {},
   "outputs": [],
   "source": [
    "df1=df1.filter(df1.Age.isNotNull())\n",
    "df1=df1.filter(df1.Attrition.isNotNull())\n",
    "df1=df1.filter(df1.YearsSinceLastPromotion.isNotNull())\n",
    "df1=df1.filter(df1.YearsInCurrentRole.isNotNull())\n",
    "df1=df1.filter(df1.YearsAtCompany.isNotNull())\n",
    "df1=df1.filter(df1.PerformanceRating.isNotNull())\n",
    "df1=df1.filter(df1.PercentSalaryHike.isNotNull())\n",
    "df1=df1.filter(df1.MonthlyIncome.isNotNull())\n",
    "df1=df1.filter(df1.JobSatisfaction.isNotNull())\n",
    "df1=df1.filter(df1.BusinessTravel.isNotNull())\n",
    "df1=df1.filter(df1.EnvironmentSatisfaction.isNotNull())\n",
    "df1=df1.filter(df1.Gender.isNotNull())\n",
    "df1=df1.filter(df1.MaritalStatus.isNotNull())\n",
    "df1=df1.filter(df1.JobLevel.isNotNull())\n",
    "df1=df1.filter(df1.Department.isNotNull())\n",
    "df1=df1.filter(df1.EducationField.isNotNull())"
   ]
  },
  {
   "cell_type": "code",
   "execution_count": 7,
   "metadata": {},
   "outputs": [
    {
     "name": "stdout",
     "output_type": "stream",
     "text": [
      "+--------------------+-----+\n",
      "|           Attrition|count|\n",
      "+--------------------+-----+\n",
      "|    Current employee|19629|\n",
      "|Voluntary Resigna...| 3681|\n",
      "+--------------------+-----+\n",
      "\n"
     ]
    }
   ],
   "source": [
    "df1.groupBy('Attrition').count().show()"
   ]
  },
  {
   "cell_type": "code",
   "execution_count": 18,
   "metadata": {},
   "outputs": [
    {
     "name": "stdout",
     "output_type": "stream",
     "text": [
      "+----------------+\n",
      "|  EducationField|\n",
      "+----------------+\n",
      "|Technical Degree|\n",
      "|            Test|\n",
      "|           Other|\n",
      "|       Marketing|\n",
      "|         Medical|\n",
      "|   Life Sciences|\n",
      "| Human Resources|\n",
      "+----------------+\n",
      "\n"
     ]
    }
   ],
   "source": [
    "df1.select('EducationField').distinct().show()"
   ]
  },
  {
   "cell_type": "code",
   "execution_count": 7,
   "metadata": {},
   "outputs": [
    {
     "data": {
      "text/plain": [
       "<AxesSubplot:xlabel='Attrition', ylabel='count'>"
      ]
     },
     "execution_count": 7,
     "metadata": {},
     "output_type": "execute_result"
    },
    {
     "data": {
      "image/png": "[encoded data removed]",
      "text/plain": [
       "<Figure size 432x288 with 1 Axes>"
      ]
     },
     "metadata": {
      "needs_background": "light"
     },
     "output_type": "display_data"
    }
   ],
   "source": [
    "\n",
    "df_Final = df1.toPandas()\n",
    "sns.countplot(x='Attrition',data=df_Final)\n"
   ]
  },
  {
   "cell_type": "code",
   "execution_count": 6,
   "metadata": {},
   "outputs": [],
   "source": [
    "df_Final = df1.toPandas()\n"
   ]
  },
  {
   "cell_type": "code",
   "execution_count": 16,
   "metadata": {},
   "outputs": [],
   "source": [
    "df_Final['Age_Years']=df_Final['Age']\n",
    "df_Final=df_Final.drop('Age',axis=1)\n",
    "df_Final"
   ]
  },
  {
   "cell_type": "code",
   "execution_count": 17,
   "metadata": {},
   "outputs": [
    {
     "data": {
      "text/html": [
       "<div>\n",
       "<style scoped>\n",
       "    .dataframe tbody tr th:only-of-type {\n",
       "        vertical-align: middle;\n",
       "    }\n",
       "\n",
       "    .dataframe tbody tr th {\n",
       "        vertical-align: top;\n",
       "    }\n",
       "\n",
       "    .dataframe thead th {\n",
       "        text-align: right;\n",
       "    }\n",
       "</style>\n",
       "<table border=\"1\" class=\"dataframe\">\n",
       "  <thead>\n",
       "    <tr style=\"text-align: right;\">\n",
       "      <th></th>\n",
       "      <th>Attrition</th>\n",
       "      <th>BusinessTravel</th>\n",
       "      <th>DailyRate</th>\n",
       "      <th>Department</th>\n",
       "      <th>DistanceFromHome</th>\n",
       "      <th>EducationField</th>\n",
       "      <th>EnvironmentSatisfaction</th>\n",
       "      <th>Gender</th>\n",
       "      <th>JobLevel</th>\n",
       "      <th>JobSatisfaction</th>\n",
       "      <th>MaritalStatus</th>\n",
       "      <th>MonthlyIncome</th>\n",
       "      <th>PercentSalaryHike</th>\n",
       "      <th>PerformanceRating</th>\n",
       "      <th>WorkLifeBalance</th>\n",
       "      <th>YearsAtCompany</th>\n",
       "      <th>YearsInCurrentRole</th>\n",
       "      <th>YearsSinceLastPromotion</th>\n",
       "      <th>Age_Years</th>\n",
       "    </tr>\n",
       "  </thead>\n",
       "  <tbody>\n",
       "    <tr>\n",
       "      <th>0</th>\n",
       "      <td>Current employee</td>\n",
       "      <td>Non-Travel</td>\n",
       "      <td>267.0</td>\n",
       "      <td>Sales</td>\n",
       "      <td>10.0</td>\n",
       "      <td>Medical</td>\n",
       "      <td>1</td>\n",
       "      <td>Male</td>\n",
       "      <td>2</td>\n",
       "      <td>4</td>\n",
       "      <td>Married</td>\n",
       "      <td>4876</td>\n",
       "      <td>14</td>\n",
       "      <td>3</td>\n",
       "      <td>1.0</td>\n",
       "      <td>3</td>\n",
       "      <td>2</td>\n",
       "      <td>0</td>\n",
       "      <td>41</td>\n",
       "    </tr>\n",
       "    <tr>\n",
       "      <th>1</th>\n",
       "      <td>Current employee</td>\n",
       "      <td>Non-Travel</td>\n",
       "      <td>267.0</td>\n",
       "      <td>Sales</td>\n",
       "      <td>10.0</td>\n",
       "      <td>Medical</td>\n",
       "      <td>4</td>\n",
       "      <td>Male</td>\n",
       "      <td>2</td>\n",
       "      <td>4</td>\n",
       "      <td>Single</td>\n",
       "      <td>6230</td>\n",
       "      <td>14</td>\n",
       "      <td>3</td>\n",
       "      <td>3.0</td>\n",
       "      <td>14</td>\n",
       "      <td>3</td>\n",
       "      <td>1</td>\n",
       "      <td>41</td>\n",
       "    </tr>\n",
       "    <tr>\n",
       "      <th>2</th>\n",
       "      <td>Current employee</td>\n",
       "      <td>Travel_Rarely</td>\n",
       "      <td>1206.0</td>\n",
       "      <td>Sales</td>\n",
       "      <td>23.0</td>\n",
       "      <td>Life Sciences</td>\n",
       "      <td>2</td>\n",
       "      <td>Female</td>\n",
       "      <td>2</td>\n",
       "      <td>3</td>\n",
       "      <td>Single</td>\n",
       "      <td>4577</td>\n",
       "      <td>14</td>\n",
       "      <td>3</td>\n",
       "      <td>3.0</td>\n",
       "      <td>2</td>\n",
       "      <td>2</td>\n",
       "      <td>2</td>\n",
       "      <td>41</td>\n",
       "    </tr>\n",
       "    <tr>\n",
       "      <th>3</th>\n",
       "      <td>Current employee</td>\n",
       "      <td>Travel_Rarely</td>\n",
       "      <td>1115.0</td>\n",
       "      <td>Research &amp; Development</td>\n",
       "      <td>1.0</td>\n",
       "      <td>Human Resources</td>\n",
       "      <td>1</td>\n",
       "      <td>Male</td>\n",
       "      <td>2</td>\n",
       "      <td>3</td>\n",
       "      <td>Divorced</td>\n",
       "      <td>5993</td>\n",
       "      <td>18</td>\n",
       "      <td>3</td>\n",
       "      <td>4.0</td>\n",
       "      <td>7</td>\n",
       "      <td>5</td>\n",
       "      <td>0</td>\n",
       "      <td>37</td>\n",
       "    </tr>\n",
       "    <tr>\n",
       "      <th>4</th>\n",
       "      <td>Current employee</td>\n",
       "      <td>Travel_Rarely</td>\n",
       "      <td>589.0</td>\n",
       "      <td>Sales</td>\n",
       "      <td>9.0</td>\n",
       "      <td>Medical</td>\n",
       "      <td>3</td>\n",
       "      <td>Male</td>\n",
       "      <td>2</td>\n",
       "      <td>1</td>\n",
       "      <td>Married</td>\n",
       "      <td>8396</td>\n",
       "      <td>14</td>\n",
       "      <td>3</td>\n",
       "      <td>2.0</td>\n",
       "      <td>7</td>\n",
       "      <td>7</td>\n",
       "      <td>7</td>\n",
       "      <td>37</td>\n",
       "    </tr>\n",
       "    <tr>\n",
       "      <th>...</th>\n",
       "      <td>...</td>\n",
       "      <td>...</td>\n",
       "      <td>...</td>\n",
       "      <td>...</td>\n",
       "      <td>...</td>\n",
       "      <td>...</td>\n",
       "      <td>...</td>\n",
       "      <td>...</td>\n",
       "      <td>...</td>\n",
       "      <td>...</td>\n",
       "      <td>...</td>\n",
       "      <td>...</td>\n",
       "      <td>...</td>\n",
       "      <td>...</td>\n",
       "      <td>...</td>\n",
       "      <td>...</td>\n",
       "      <td>...</td>\n",
       "      <td>...</td>\n",
       "      <td>...</td>\n",
       "    </tr>\n",
       "    <tr>\n",
       "      <th>23289</th>\n",
       "      <td>Current employee</td>\n",
       "      <td>Travel_Rarely</td>\n",
       "      <td>1291.0</td>\n",
       "      <td>Research &amp; Development</td>\n",
       "      <td>15.0</td>\n",
       "      <td>Life Sciences</td>\n",
       "      <td>3</td>\n",
       "      <td>Male</td>\n",
       "      <td>4</td>\n",
       "      <td>3</td>\n",
       "      <td>Married</td>\n",
       "      <td>17603</td>\n",
       "      <td>24</td>\n",
       "      <td>4</td>\n",
       "      <td>3.0</td>\n",
       "      <td>14</td>\n",
       "      <td>10</td>\n",
       "      <td>6</td>\n",
       "      <td>43</td>\n",
       "    </tr>\n",
       "    <tr>\n",
       "      <th>23290</th>\n",
       "      <td>Current employee</td>\n",
       "      <td>Travel_Rarely</td>\n",
       "      <td>818.0</td>\n",
       "      <td>Human Resources</td>\n",
       "      <td>6.0</td>\n",
       "      <td>Medical</td>\n",
       "      <td>3</td>\n",
       "      <td>Female</td>\n",
       "      <td>1</td>\n",
       "      <td>2</td>\n",
       "      <td>Married</td>\n",
       "      <td>2210</td>\n",
       "      <td>13</td>\n",
       "      <td>3</td>\n",
       "      <td>1.0</td>\n",
       "      <td>1</td>\n",
       "      <td>0</td>\n",
       "      <td>0</td>\n",
       "      <td>59</td>\n",
       "    </tr>\n",
       "    <tr>\n",
       "      <th>23291</th>\n",
       "      <td>Current employee</td>\n",
       "      <td>Travel_Rarely</td>\n",
       "      <td>685.0</td>\n",
       "      <td>Research &amp; Development</td>\n",
       "      <td>3.0</td>\n",
       "      <td>Life Sciences</td>\n",
       "      <td>2</td>\n",
       "      <td>Female</td>\n",
       "      <td>2</td>\n",
       "      <td>3</td>\n",
       "      <td>Married</td>\n",
       "      <td>6538</td>\n",
       "      <td>15</td>\n",
       "      <td>3</td>\n",
       "      <td>3.0</td>\n",
       "      <td>3</td>\n",
       "      <td>2</td>\n",
       "      <td>1</td>\n",
       "      <td>54</td>\n",
       "    </tr>\n",
       "    <tr>\n",
       "      <th>23292</th>\n",
       "      <td>Current employee</td>\n",
       "      <td>Travel_Rarely</td>\n",
       "      <td>155.0</td>\n",
       "      <td>Research &amp; Development</td>\n",
       "      <td>9.0</td>\n",
       "      <td>Life Sciences</td>\n",
       "      <td>3</td>\n",
       "      <td>Female</td>\n",
       "      <td>1</td>\n",
       "      <td>3</td>\n",
       "      <td>Single</td>\n",
       "      <td>2274</td>\n",
       "      <td>14</td>\n",
       "      <td>3</td>\n",
       "      <td>3.0</td>\n",
       "      <td>1</td>\n",
       "      <td>0</td>\n",
       "      <td>0</td>\n",
       "      <td>54</td>\n",
       "    </tr>\n",
       "    <tr>\n",
       "      <th>23293</th>\n",
       "      <td>Current employee</td>\n",
       "      <td>Travel_Rarely</td>\n",
       "      <td>405.0</td>\n",
       "      <td>Research &amp; Development</td>\n",
       "      <td>1.0</td>\n",
       "      <td>Life Sciences</td>\n",
       "      <td>2</td>\n",
       "      <td>Male</td>\n",
       "      <td>2</td>\n",
       "      <td>3</td>\n",
       "      <td>Married</td>\n",
       "      <td>4900</td>\n",
       "      <td>24</td>\n",
       "      <td>4</td>\n",
       "      <td>2.0</td>\n",
       "      <td>12</td>\n",
       "      <td>9</td>\n",
       "      <td>2</td>\n",
       "      <td>57</td>\n",
       "    </tr>\n",
       "  </tbody>\n",
       "</table>\n",
       "<p>23294 rows × 19 columns</p>\n",
       "</div>"
      ],
      "text/plain": [
       "              Attrition BusinessTravel  DailyRate              Department  \\\n",
       "0      Current employee     Non-Travel      267.0                   Sales   \n",
       "1      Current employee     Non-Travel      267.0                   Sales   \n",
       "2      Current employee  Travel_Rarely     1206.0                   Sales   \n",
       "3      Current employee  Travel_Rarely     1115.0  Research & Development   \n",
       "4      Current employee  Travel_Rarely      589.0                   Sales   \n",
       "...                 ...            ...        ...                     ...   \n",
       "23289  Current employee  Travel_Rarely     1291.0  Research & Development   \n",
       "23290  Current employee  Travel_Rarely      818.0         Human Resources   \n",
       "23291  Current employee  Travel_Rarely      685.0  Research & Development   \n",
       "23292  Current employee  Travel_Rarely      155.0  Research & Development   \n",
       "23293  Current employee  Travel_Rarely      405.0  Research & Development   \n",
       "\n",
       "       DistanceFromHome   EducationField  EnvironmentSatisfaction  Gender  \\\n",
       "0                  10.0          Medical                        1    Male   \n",
       "1                  10.0          Medical                        4    Male   \n",
       "2                  23.0    Life Sciences                        2  Female   \n",
       "3                   1.0  Human Resources                        1    Male   \n",
       "4                   9.0          Medical                        3    Male   \n",
       "...                 ...              ...                      ...     ...   \n",
       "23289              15.0    Life Sciences                        3    Male   \n",
       "23290               6.0          Medical                        3  Female   \n",
       "23291               3.0    Life Sciences                        2  Female   \n",
       "23292               9.0    Life Sciences                        3  Female   \n",
       "23293               1.0    Life Sciences                        2    Male   \n",
       "\n",
       "       JobLevel  JobSatisfaction MaritalStatus  MonthlyIncome  \\\n",
       "0             2                4       Married           4876   \n",
       "1             2                4        Single           6230   \n",
       "2             2                3        Single           4577   \n",
       "3             2                3      Divorced           5993   \n",
       "4             2                1       Married           8396   \n",
       "...         ...              ...           ...            ...   \n",
       "23289         4                3       Married          17603   \n",
       "23290         1                2       Married           2210   \n",
       "23291         2                3       Married           6538   \n",
       "23292         1                3        Single           2274   \n",
       "23293         2                3       Married           4900   \n",
       "\n",
       "       PercentSalaryHike  PerformanceRating  WorkLifeBalance  YearsAtCompany  \\\n",
       "0                     14                  3              1.0               3   \n",
       "1                     14                  3              3.0              14   \n",
       "2                     14                  3              3.0               2   \n",
       "3                     18                  3              4.0               7   \n",
       "4                     14                  3              2.0               7   \n",
       "...                  ...                ...              ...             ...   \n",
       "23289                 24                  4              3.0              14   \n",
       "23290                 13                  3              1.0               1   \n",
       "23291                 15                  3              3.0               3   \n",
       "23292                 14                  3              3.0               1   \n",
       "23293                 24                  4              2.0              12   \n",
       "\n",
       "       YearsInCurrentRole  YearsSinceLastPromotion  Age_Years  \n",
       "0                       2                        0         41  \n",
       "1                       3                        1         41  \n",
       "2                       2                        2         41  \n",
       "3                       5                        0         37  \n",
       "4                       7                        7         37  \n",
       "...                   ...                      ...        ...  \n",
       "23289                  10                        6         43  \n",
       "23290                   0                        0         59  \n",
       "23291                   2                        1         54  \n",
       "23292                   0                        0         54  \n",
       "23293                   9                        2         57  \n",
       "\n",
       "[23294 rows x 19 columns]"
      ]
     },
     "execution_count": 17,
     "metadata": {},
     "output_type": "execute_result"
    }
   ],
   "source": [
    "df_Final"
   ]
  },
  {
   "cell_type": "code",
   "execution_count": 39,
   "metadata": {},
   "outputs": [
    {
     "data": {
      "text/plain": [
       "(array([ 899., 1659., 3552., 4196., 4063., 3433., 2076., 1468., 1222.,\n",
       "         742.]),\n",
       " array([18. , 22.2, 26.4, 30.6, 34.8, 39. , 43.2, 47.4, 51.6, 55.8, 60. ]),\n",
       " <BarContainer object of 10 artists>)"
      ]
     },
     "execution_count": 39,
     "metadata": {},
     "output_type": "execute_result"
    },
    {
     "data": {
      "image/png": "[encoded data removed]",
      "text/plain": [
       "<Figure size 504x504 with 1 Axes>"
      ]
     },
     "metadata": {
      "needs_background": "light"
     },
     "output_type": "display_data"
    }
   ],
   "source": [
    "#Age analysis\n",
    "plt.rcParams[\"figure.figsize\"] = [7,7]\n",
    "plt.hist(df_Final['Age'], alpha=0.8, rwidth=0.9, color='green')"
   ]
  },
  {
   "cell_type": "code",
   "execution_count": 59,
   "metadata": {},
   "outputs": [
    {
     "data": {
      "image/png": "[encoded data removed]",
      "text/plain": [
       "<Figure size 504x504 with 1 Axes>"
      ]
     },
     "metadata": {
      "needs_background": "light"
     },
     "output_type": "display_data"
    }
   ],
   "source": [
    "ax = sns.countplot(x=\"BusinessTravel\", hue=\"Attrition\", data=df_Final)\n",
    "for p in ax.patches:\n",
    "    ax.annotate('{}'.format(p.get_height()), (p.get_x(), p.get_height()+1))\n"
   ]
  },
  {
   "cell_type": "code",
   "execution_count": 63,
   "metadata": {},
   "outputs": [
    {
     "data": {
      "image/png": "[encoded data removed]",
      "text/plain": [
       "<Figure size 504x504 with 1 Axes>"
      ]
     },
     "metadata": {
      "needs_background": "light"
     },
     "output_type": "display_data"
    }
   ],
   "source": [
    "ax=sns.countplot(x=\"Gender\", hue=\"Attrition\", data=df_Final)\n",
    "for p in ax.patches:\n",
    "    ax.annotate('{}'.format(p.get_height()), (p.get_x(), p.get_height()+1))"
   ]
  },
  {
   "cell_type": "code",
   "execution_count": null,
   "metadata": {},
   "outputs": [],
   "source": []
  },
  {
   "cell_type": "code",
   "execution_count": null,
   "metadata": {},
   "outputs": [],
   "source": []
  },
  {
   "cell_type": "code",
   "execution_count": 65,
   "metadata": {},
   "outputs": [
    {
     "data": {
      "image/png": "[encoded data removed]",
      "text/plain": [
       "<Figure size 504x504 with 1 Axes>"
      ]
     },
     "metadata": {
      "needs_background": "light"
     },
     "output_type": "display_data"
    }
   ],
   "source": [
    "ax=sns.countplot(x=\"MaritalStatus\", hue=\"Attrition\", data=df_Final)\n",
    "for p in ax.patches:\n",
    "    ax.annotate('{}'.format(p.get_height()), (p.get_x(), p.get_height()+1))"
   ]
  },
  {
   "cell_type": "code",
   "execution_count": 13,
   "metadata": {},
   "outputs": [
    {
     "data": {
      "text/plain": [
       "Text(0.5, 6.800000000000029, 'Distance')"
      ]
     },
     "execution_count": 13,
     "metadata": {},
     "output_type": "execute_result"
    },
    {
     "data": {
      "image/png": "[encoded data removed]",
      "text/plain": [
       "<Figure size 865.5x720 with 1 Axes>"
      ]
     },
     "metadata": {
      "needs_background": "light"
     },
     "output_type": "display_data"
    }
   ],
   "source": [
    "\n",
    "sns.catplot(x='DistanceFromHome',hue='Attrition',data=df_Final,kind='count',height=10)\n",
    "plt.ylabel('Attrition')\n",
    "plt.xlabel('Distance')"
   ]
  },
  {
   "cell_type": "code",
   "execution_count": 29,
   "metadata": {},
   "outputs": [
    {
     "name": "stderr",
     "output_type": "stream",
     "text": [
      "/home/shailendra/.pyenv/versions/3.7.5/lib/python3.7/site-packages/seaborn/distributions.py:2551: FutureWarning: `distplot` is a deprecated function and will be removed in a future version. Please adapt your code to use either `displot` (a figure-level function with similar flexibility) or `histplot` (an axes-level function for histograms).\n",
      "  warnings.warn(msg, FutureWarning)\n"
     ]
    },
    {
     "data": {
      "text/plain": [
       "Text(0.5, 0, 'Age')"
      ]
     },
     "execution_count": 29,
     "metadata": {},
     "output_type": "execute_result"
    },
    {
     "data": {
      "image/png": "[encoded data removed]",
      "text/plain": [
       "<Figure size 432x288 with 1 Axes>"
      ]
     },
     "metadata": {
      "needs_background": "light"
     },
     "output_type": "display_data"
    }
   ],
   "source": [
    "y_ans_val = [val.Attrition for val in df1.select('Attrition').collect()]\n",
    "x_ts = [val.Age for val in df1.select('Age').collect()]\n",
    "\n",
    "sns.distplot(x_ts,hist=True, bins=30,kde=True)\n",
    "plt.ylabel('Count')\n",
    "plt.xlabel('Age')"
   ]
  },
  {
   "cell_type": "code",
   "execution_count": 30,
   "metadata": {},
   "outputs": [
    {
     "data": {
      "text/plain": [
       "Text(0.5, 6.79999999999999, 'Attrition')"
      ]
     },
     "execution_count": 30,
     "metadata": {},
     "output_type": "execute_result"
    },
    {
     "data": {
      "image/png": "[encoded data removed]",
      "text/plain": [
       "<Figure size 432.125x360 with 1 Axes>"
      ]
     },
     "metadata": {
      "needs_background": "light"
     },
     "output_type": "display_data"
    }
   ],
   "source": [
    "\n",
    "sns.catplot(x='Attrition',hue='Gender',data=df_Final,kind='count',height=5)\n",
    "plt.ylabel('Gender')\n",
    "plt.xlabel('Attrition')"
   ]
  },
  {
   "cell_type": "code",
   "execution_count": 11,
   "metadata": {},
   "outputs": [
    {
     "data": {
      "text/plain": [
       "Text(0.5, 6.79999999999999, 'Attrition')"
      ]
     },
     "execution_count": 11,
     "metadata": {},
     "output_type": "execute_result"
    },
    {
     "data": {
      "image/png": "[encoded data removed]",
      "text/plain": [
       "<Figure size 522.875x360 with 1 Axes>"
      ]
     },
     "metadata": {
      "needs_background": "light"
     },
     "output_type": "display_data"
    }
   ],
   "source": [
    "\n",
    "sns.catplot(x='Attrition',hue='Department',data=df_Final,kind='count',height=5)\n",
    "plt.ylabel('Department')\n",
    "plt.xlabel('Attrition')"
   ]
  },
  {
   "cell_type": "code",
   "execution_count": 15,
   "metadata": {},
   "outputs": [
    {
     "data": {
      "text/plain": [
       "Text(0.5, 6.79999999999999, 'Attrition')"
      ]
     },
     "execution_count": 15,
     "metadata": {},
     "output_type": "execute_result"
    },
    {
     "data": {
      "image/png": "[encoded data removed]",
      "text/plain": [
       "<Figure size 486x360 with 1 Axes>"
      ]
     },
     "metadata": {
      "needs_background": "light"
     },
     "output_type": "display_data"
    }
   ],
   "source": [
    "\n",
    "sns.catplot(x='Attrition',hue='EducationField',data=df_Final,kind='count',height=5)\n",
    "plt.ylabel('EducationField')\n",
    "plt.xlabel('Attrition')"
   ]
  },
  {
   "cell_type": "code",
   "execution_count": 7,
   "metadata": {},
   "outputs": [
    {
     "data": {
      "text/html": [
       "<div>\n",
       "<style scoped>\n",
       "    .dataframe tbody tr th:only-of-type {\n",
       "        vertical-align: middle;\n",
       "    }\n",
       "\n",
       "    .dataframe tbody tr th {\n",
       "        vertical-align: top;\n",
       "    }\n",
       "\n",
       "    .dataframe thead th {\n",
       "        text-align: right;\n",
       "    }\n",
       "</style>\n",
       "<table border=\"1\" class=\"dataframe\">\n",
       "  <thead>\n",
       "    <tr style=\"text-align: right;\">\n",
       "      <th></th>\n",
       "      <th>Age</th>\n",
       "      <th>DailyRate</th>\n",
       "      <th>DistanceFromHome</th>\n",
       "      <th>EnvironmentSatisfaction</th>\n",
       "      <th>JobLevel</th>\n",
       "      <th>JobSatisfaction</th>\n",
       "      <th>MonthlyIncome</th>\n",
       "      <th>PercentSalaryHike</th>\n",
       "      <th>PerformanceRating</th>\n",
       "      <th>WorkLifeBalance</th>\n",
       "      <th>YearsAtCompany</th>\n",
       "      <th>YearsInCurrentRole</th>\n",
       "      <th>YearsSinceLastPromotion</th>\n",
       "    </tr>\n",
       "  </thead>\n",
       "  <tbody>\n",
       "    <tr>\n",
       "      <th>Age</th>\n",
       "      <td>1.000000</td>\n",
       "      <td>0.012815</td>\n",
       "      <td>0.000451</td>\n",
       "      <td>-0.004350</td>\n",
       "      <td>0.250006</td>\n",
       "      <td>-0.028992</td>\n",
       "      <td>0.242365</td>\n",
       "      <td>-0.011035</td>\n",
       "      <td>-0.008205</td>\n",
       "      <td>-0.002218</td>\n",
       "      <td>0.140416</td>\n",
       "      <td>0.099847</td>\n",
       "      <td>0.099214</td>\n",
       "    </tr>\n",
       "    <tr>\n",
       "      <th>DailyRate</th>\n",
       "      <td>0.012815</td>\n",
       "      <td>1.000000</td>\n",
       "      <td>-0.005684</td>\n",
       "      <td>0.005862</td>\n",
       "      <td>-0.019997</td>\n",
       "      <td>0.011445</td>\n",
       "      <td>-0.014512</td>\n",
       "      <td>0.022120</td>\n",
       "      <td>0.010093</td>\n",
       "      <td>-0.033038</td>\n",
       "      <td>-0.038921</td>\n",
       "      <td>-0.019519</td>\n",
       "      <td>-0.033780</td>\n",
       "    </tr>\n",
       "    <tr>\n",
       "      <th>DistanceFromHome</th>\n",
       "      <td>0.000451</td>\n",
       "      <td>-0.005684</td>\n",
       "      <td>1.000000</td>\n",
       "      <td>0.007419</td>\n",
       "      <td>0.002119</td>\n",
       "      <td>-0.018733</td>\n",
       "      <td>-0.004044</td>\n",
       "      <td>0.024506</td>\n",
       "      <td>0.006407</td>\n",
       "      <td>0.000653</td>\n",
       "      <td>0.002368</td>\n",
       "      <td>0.002137</td>\n",
       "      <td>-0.001874</td>\n",
       "    </tr>\n",
       "    <tr>\n",
       "      <th>EnvironmentSatisfaction</th>\n",
       "      <td>-0.004350</td>\n",
       "      <td>0.005862</td>\n",
       "      <td>0.007419</td>\n",
       "      <td>1.000000</td>\n",
       "      <td>-0.011290</td>\n",
       "      <td>-0.022994</td>\n",
       "      <td>-0.015962</td>\n",
       "      <td>-0.020233</td>\n",
       "      <td>-0.007606</td>\n",
       "      <td>0.015589</td>\n",
       "      <td>-0.013432</td>\n",
       "      <td>-0.004714</td>\n",
       "      <td>-0.000289</td>\n",
       "    </tr>\n",
       "    <tr>\n",
       "      <th>JobLevel</th>\n",
       "      <td>0.250006</td>\n",
       "      <td>-0.019997</td>\n",
       "      <td>0.002119</td>\n",
       "      <td>-0.011290</td>\n",
       "      <td>1.000000</td>\n",
       "      <td>-0.001995</td>\n",
       "      <td>0.942579</td>\n",
       "      <td>-0.032203</td>\n",
       "      <td>-0.002250</td>\n",
       "      <td>0.034577</td>\n",
       "      <td>0.523463</td>\n",
       "      <td>0.381142</td>\n",
       "      <td>0.347824</td>\n",
       "    </tr>\n",
       "    <tr>\n",
       "      <th>JobSatisfaction</th>\n",
       "      <td>-0.028992</td>\n",
       "      <td>0.011445</td>\n",
       "      <td>-0.018733</td>\n",
       "      <td>-0.022994</td>\n",
       "      <td>-0.001995</td>\n",
       "      <td>1.000000</td>\n",
       "      <td>-0.008658</td>\n",
       "      <td>0.021706</td>\n",
       "      <td>0.000866</td>\n",
       "      <td>-0.021998</td>\n",
       "      <td>-0.002002</td>\n",
       "      <td>0.002257</td>\n",
       "      <td>-0.017612</td>\n",
       "    </tr>\n",
       "    <tr>\n",
       "      <th>MonthlyIncome</th>\n",
       "      <td>0.242365</td>\n",
       "      <td>-0.014512</td>\n",
       "      <td>-0.004044</td>\n",
       "      <td>-0.015962</td>\n",
       "      <td>0.942579</td>\n",
       "      <td>-0.008658</td>\n",
       "      <td>1.000000</td>\n",
       "      <td>-0.028022</td>\n",
       "      <td>-0.000768</td>\n",
       "      <td>0.029943</td>\n",
       "      <td>0.501920</td>\n",
       "      <td>0.355423</td>\n",
       "      <td>0.338446</td>\n",
       "    </tr>\n",
       "    <tr>\n",
       "      <th>PercentSalaryHike</th>\n",
       "      <td>-0.011035</td>\n",
       "      <td>0.022120</td>\n",
       "      <td>0.024506</td>\n",
       "      <td>-0.020233</td>\n",
       "      <td>-0.032203</td>\n",
       "      <td>0.021706</td>\n",
       "      <td>-0.028022</td>\n",
       "      <td>1.000000</td>\n",
       "      <td>0.377340</td>\n",
       "      <td>-0.008580</td>\n",
       "      <td>-0.035583</td>\n",
       "      <td>0.000728</td>\n",
       "      <td>-0.020946</td>\n",
       "    </tr>\n",
       "    <tr>\n",
       "      <th>PerformanceRating</th>\n",
       "      <td>-0.008205</td>\n",
       "      <td>0.010093</td>\n",
       "      <td>0.006407</td>\n",
       "      <td>-0.007606</td>\n",
       "      <td>-0.002250</td>\n",
       "      <td>0.000866</td>\n",
       "      <td>-0.000768</td>\n",
       "      <td>0.377340</td>\n",
       "      <td>1.000000</td>\n",
       "      <td>-0.008201</td>\n",
       "      <td>0.013439</td>\n",
       "      <td>0.029831</td>\n",
       "      <td>0.015701</td>\n",
       "    </tr>\n",
       "    <tr>\n",
       "      <th>WorkLifeBalance</th>\n",
       "      <td>-0.002218</td>\n",
       "      <td>-0.033038</td>\n",
       "      <td>0.000653</td>\n",
       "      <td>0.015589</td>\n",
       "      <td>0.034577</td>\n",
       "      <td>-0.021998</td>\n",
       "      <td>0.029943</td>\n",
       "      <td>-0.008580</td>\n",
       "      <td>-0.008201</td>\n",
       "      <td>1.000000</td>\n",
       "      <td>0.012198</td>\n",
       "      <td>0.050200</td>\n",
       "      <td>0.006622</td>\n",
       "    </tr>\n",
       "    <tr>\n",
       "      <th>YearsAtCompany</th>\n",
       "      <td>0.140416</td>\n",
       "      <td>-0.038921</td>\n",
       "      <td>0.002368</td>\n",
       "      <td>-0.013432</td>\n",
       "      <td>0.523463</td>\n",
       "      <td>-0.002002</td>\n",
       "      <td>0.501920</td>\n",
       "      <td>-0.035583</td>\n",
       "      <td>0.013439</td>\n",
       "      <td>0.012198</td>\n",
       "      <td>1.000000</td>\n",
       "      <td>0.758518</td>\n",
       "      <td>0.615038</td>\n",
       "    </tr>\n",
       "    <tr>\n",
       "      <th>YearsInCurrentRole</th>\n",
       "      <td>0.099847</td>\n",
       "      <td>-0.019519</td>\n",
       "      <td>0.002137</td>\n",
       "      <td>-0.004714</td>\n",
       "      <td>0.381142</td>\n",
       "      <td>0.002257</td>\n",
       "      <td>0.355423</td>\n",
       "      <td>0.000728</td>\n",
       "      <td>0.029831</td>\n",
       "      <td>0.050200</td>\n",
       "      <td>0.758518</td>\n",
       "      <td>1.000000</td>\n",
       "      <td>0.544629</td>\n",
       "    </tr>\n",
       "    <tr>\n",
       "      <th>YearsSinceLastPromotion</th>\n",
       "      <td>0.099214</td>\n",
       "      <td>-0.033780</td>\n",
       "      <td>-0.001874</td>\n",
       "      <td>-0.000289</td>\n",
       "      <td>0.347824</td>\n",
       "      <td>-0.017612</td>\n",
       "      <td>0.338446</td>\n",
       "      <td>-0.020946</td>\n",
       "      <td>0.015701</td>\n",
       "      <td>0.006622</td>\n",
       "      <td>0.615038</td>\n",
       "      <td>0.544629</td>\n",
       "      <td>1.000000</td>\n",
       "    </tr>\n",
       "  </tbody>\n",
       "</table>\n",
       "</div>"
      ],
      "text/plain": [
       "                              Age  DailyRate  DistanceFromHome  \\\n",
       "Age                      1.000000   0.012815          0.000451   \n",
       "DailyRate                0.012815   1.000000         -0.005684   \n",
       "DistanceFromHome         0.000451  -0.005684          1.000000   \n",
       "EnvironmentSatisfaction -0.004350   0.005862          0.007419   \n",
       "JobLevel                 0.250006  -0.019997          0.002119   \n",
       "JobSatisfaction         -0.028992   0.011445         -0.018733   \n",
       "MonthlyIncome            0.242365  -0.014512         -0.004044   \n",
       "PercentSalaryHike       -0.011035   0.022120          0.024506   \n",
       "PerformanceRating       -0.008205   0.010093          0.006407   \n",
       "WorkLifeBalance         -0.002218  -0.033038          0.000653   \n",
       "YearsAtCompany           0.140416  -0.038921          0.002368   \n",
       "YearsInCurrentRole       0.099847  -0.019519          0.002137   \n",
       "YearsSinceLastPromotion  0.099214  -0.033780         -0.001874   \n",
       "\n",
       "                         EnvironmentSatisfaction  JobLevel  JobSatisfaction  \\\n",
       "Age                                    -0.004350  0.250006        -0.028992   \n",
       "DailyRate                               0.005862 -0.019997         0.011445   \n",
       "DistanceFromHome                        0.007419  0.002119        -0.018733   \n",
       "EnvironmentSatisfaction                 1.000000 -0.011290        -0.022994   \n",
       "JobLevel                               -0.011290  1.000000        -0.001995   \n",
       "JobSatisfaction                        -0.022994 -0.001995         1.000000   \n",
       "MonthlyIncome                          -0.015962  0.942579        -0.008658   \n",
       "PercentSalaryHike                      -0.020233 -0.032203         0.021706   \n",
       "PerformanceRating                      -0.007606 -0.002250         0.000866   \n",
       "WorkLifeBalance                         0.015589  0.034577        -0.021998   \n",
       "YearsAtCompany                         -0.013432  0.523463        -0.002002   \n",
       "YearsInCurrentRole                     -0.004714  0.381142         0.002257   \n",
       "YearsSinceLastPromotion                -0.000289  0.347824        -0.017612   \n",
       "\n",
       "                         MonthlyIncome  PercentSalaryHike  PerformanceRating  \\\n",
       "Age                           0.242365          -0.011035          -0.008205   \n",
       "DailyRate                    -0.014512           0.022120           0.010093   \n",
       "DistanceFromHome             -0.004044           0.024506           0.006407   \n",
       "EnvironmentSatisfaction      -0.015962          -0.020233          -0.007606   \n",
       "JobLevel                      0.942579          -0.032203          -0.002250   \n",
       "JobSatisfaction              -0.008658           0.021706           0.000866   \n",
       "MonthlyIncome                 1.000000          -0.028022          -0.000768   \n",
       "PercentSalaryHike            -0.028022           1.000000           0.377340   \n",
       "PerformanceRating            -0.000768           0.377340           1.000000   \n",
       "WorkLifeBalance               0.029943          -0.008580          -0.008201   \n",
       "YearsAtCompany                0.501920          -0.035583           0.013439   \n",
       "YearsInCurrentRole            0.355423           0.000728           0.029831   \n",
       "YearsSinceLastPromotion       0.338446          -0.020946           0.015701   \n",
       "\n",
       "                         WorkLifeBalance  YearsAtCompany  YearsInCurrentRole  \\\n",
       "Age                            -0.002218        0.140416            0.099847   \n",
       "DailyRate                      -0.033038       -0.038921           -0.019519   \n",
       "DistanceFromHome                0.000653        0.002368            0.002137   \n",
       "EnvironmentSatisfaction         0.015589       -0.013432           -0.004714   \n",
       "JobLevel                        0.034577        0.523463            0.381142   \n",
       "JobSatisfaction                -0.021998       -0.002002            0.002257   \n",
       "MonthlyIncome                   0.029943        0.501920            0.355423   \n",
       "PercentSalaryHike              -0.008580       -0.035583            0.000728   \n",
       "PerformanceRating              -0.008201        0.013439            0.029831   \n",
       "WorkLifeBalance                 1.000000        0.012198            0.050200   \n",
       "YearsAtCompany                  0.012198        1.000000            0.758518   \n",
       "YearsInCurrentRole              0.050200        0.758518            1.000000   \n",
       "YearsSinceLastPromotion         0.006622        0.615038            0.544629   \n",
       "\n",
       "                         YearsSinceLastPromotion  \n",
       "Age                                     0.099214  \n",
       "DailyRate                              -0.033780  \n",
       "DistanceFromHome                       -0.001874  \n",
       "EnvironmentSatisfaction                -0.000289  \n",
       "JobLevel                                0.347824  \n",
       "JobSatisfaction                        -0.017612  \n",
       "MonthlyIncome                           0.338446  \n",
       "PercentSalaryHike                      -0.020946  \n",
       "PerformanceRating                       0.015701  \n",
       "WorkLifeBalance                         0.006622  \n",
       "YearsAtCompany                          0.615038  \n",
       "YearsInCurrentRole                      0.544629  \n",
       "YearsSinceLastPromotion                 1.000000  "
      ]
     },
     "execution_count": 7,
     "metadata": {},
     "output_type": "execute_result"
    }
   ],
   "source": [
    "\n",
    "df_Final.corr()"
   ]
  },
  {
   "cell_type": "code",
   "execution_count": 8,
   "metadata": {},
   "outputs": [
    {
     "data": {
      "text/html": [
       "<div>\n",
       "<style scoped>\n",
       "    .dataframe tbody tr th:only-of-type {\n",
       "        vertical-align: middle;\n",
       "    }\n",
       "\n",
       "    .dataframe tbody tr th {\n",
       "        vertical-align: top;\n",
       "    }\n",
       "\n",
       "    .dataframe thead th {\n",
       "        text-align: right;\n",
       "    }\n",
       "</style>\n",
       "<table border=\"1\" class=\"dataframe\">\n",
       "  <thead>\n",
       "    <tr style=\"text-align: right;\">\n",
       "      <th></th>\n",
       "      <th>Age</th>\n",
       "      <th>DailyRate</th>\n",
       "      <th>DistanceFromHome</th>\n",
       "      <th>EnvironmentSatisfaction</th>\n",
       "      <th>JobLevel</th>\n",
       "      <th>JobSatisfaction</th>\n",
       "      <th>MonthlyIncome</th>\n",
       "      <th>PercentSalaryHike</th>\n",
       "      <th>PerformanceRating</th>\n",
       "      <th>WorkLifeBalance</th>\n",
       "      <th>YearsAtCompany</th>\n",
       "      <th>YearsInCurrentRole</th>\n",
       "      <th>YearsSinceLastPromotion</th>\n",
       "    </tr>\n",
       "  </thead>\n",
       "  <tbody>\n",
       "    <tr>\n",
       "      <th>count</th>\n",
       "      <td>23294.000000</td>\n",
       "      <td>23287.000000</td>\n",
       "      <td>23287.000000</td>\n",
       "      <td>23294.000000</td>\n",
       "      <td>23294.000000</td>\n",
       "      <td>23294.000000</td>\n",
       "      <td>23294.000000</td>\n",
       "      <td>23294.000000</td>\n",
       "      <td>23294.000000</td>\n",
       "      <td>23287.000000</td>\n",
       "      <td>23294.000000</td>\n",
       "      <td>23294.000000</td>\n",
       "      <td>23294.000000</td>\n",
       "    </tr>\n",
       "    <tr>\n",
       "      <th>mean</th>\n",
       "      <td>36.934232</td>\n",
       "      <td>802.125263</td>\n",
       "      <td>9.179757</td>\n",
       "      <td>2.718940</td>\n",
       "      <td>2.065296</td>\n",
       "      <td>2.726882</td>\n",
       "      <td>6509.941659</td>\n",
       "      <td>15.213875</td>\n",
       "      <td>3.155147</td>\n",
       "      <td>2.762185</td>\n",
       "      <td>7.014296</td>\n",
       "      <td>4.229973</td>\n",
       "      <td>2.183180</td>\n",
       "    </tr>\n",
       "    <tr>\n",
       "      <th>std</th>\n",
       "      <td>9.124118</td>\n",
       "      <td>403.243138</td>\n",
       "      <td>8.096264</td>\n",
       "      <td>1.095235</td>\n",
       "      <td>1.105861</td>\n",
       "      <td>1.101402</td>\n",
       "      <td>4707.636587</td>\n",
       "      <td>3.659101</td>\n",
       "      <td>0.362053</td>\n",
       "      <td>0.705404</td>\n",
       "      <td>6.135389</td>\n",
       "      <td>3.628649</td>\n",
       "      <td>3.217174</td>\n",
       "    </tr>\n",
       "    <tr>\n",
       "      <th>min</th>\n",
       "      <td>18.000000</td>\n",
       "      <td>102.000000</td>\n",
       "      <td>1.000000</td>\n",
       "      <td>1.000000</td>\n",
       "      <td>1.000000</td>\n",
       "      <td>1.000000</td>\n",
       "      <td>1009.000000</td>\n",
       "      <td>11.000000</td>\n",
       "      <td>3.000000</td>\n",
       "      <td>1.000000</td>\n",
       "      <td>0.000000</td>\n",
       "      <td>0.000000</td>\n",
       "      <td>0.000000</td>\n",
       "    </tr>\n",
       "    <tr>\n",
       "      <th>25%</th>\n",
       "      <td>30.000000</td>\n",
       "      <td>465.000000</td>\n",
       "      <td>2.000000</td>\n",
       "      <td>2.000000</td>\n",
       "      <td>1.000000</td>\n",
       "      <td>2.000000</td>\n",
       "      <td>2911.000000</td>\n",
       "      <td>12.000000</td>\n",
       "      <td>3.000000</td>\n",
       "      <td>2.000000</td>\n",
       "      <td>3.000000</td>\n",
       "      <td>2.000000</td>\n",
       "      <td>0.000000</td>\n",
       "    </tr>\n",
       "    <tr>\n",
       "      <th>50%</th>\n",
       "      <td>36.000000</td>\n",
       "      <td>802.000000</td>\n",
       "      <td>7.000000</td>\n",
       "      <td>3.000000</td>\n",
       "      <td>2.000000</td>\n",
       "      <td>3.000000</td>\n",
       "      <td>4936.000000</td>\n",
       "      <td>14.000000</td>\n",
       "      <td>3.000000</td>\n",
       "      <td>3.000000</td>\n",
       "      <td>5.000000</td>\n",
       "      <td>3.000000</td>\n",
       "      <td>1.000000</td>\n",
       "    </tr>\n",
       "    <tr>\n",
       "      <th>75%</th>\n",
       "      <td>43.000000</td>\n",
       "      <td>1157.000000</td>\n",
       "      <td>14.000000</td>\n",
       "      <td>4.000000</td>\n",
       "      <td>3.000000</td>\n",
       "      <td>4.000000</td>\n",
       "      <td>8380.000000</td>\n",
       "      <td>18.000000</td>\n",
       "      <td>3.000000</td>\n",
       "      <td>3.000000</td>\n",
       "      <td>10.000000</td>\n",
       "      <td>7.000000</td>\n",
       "      <td>3.000000</td>\n",
       "    </tr>\n",
       "    <tr>\n",
       "      <th>max</th>\n",
       "      <td>60.000000</td>\n",
       "      <td>1499.000000</td>\n",
       "      <td>29.000000</td>\n",
       "      <td>4.000000</td>\n",
       "      <td>5.000000</td>\n",
       "      <td>4.000000</td>\n",
       "      <td>19999.000000</td>\n",
       "      <td>25.000000</td>\n",
       "      <td>4.000000</td>\n",
       "      <td>4.000000</td>\n",
       "      <td>40.000000</td>\n",
       "      <td>22.000000</td>\n",
       "      <td>17.000000</td>\n",
       "    </tr>\n",
       "  </tbody>\n",
       "</table>\n",
       "</div>"
      ],
      "text/plain": [
       "                Age     DailyRate  DistanceFromHome  EnvironmentSatisfaction  \\\n",
       "count  23294.000000  23287.000000      23287.000000             23294.000000   \n",
       "mean      36.934232    802.125263          9.179757                 2.718940   \n",
       "std        9.124118    403.243138          8.096264                 1.095235   \n",
       "min       18.000000    102.000000          1.000000                 1.000000   \n",
       "25%       30.000000    465.000000          2.000000                 2.000000   \n",
       "50%       36.000000    802.000000          7.000000                 3.000000   \n",
       "75%       43.000000   1157.000000         14.000000                 4.000000   \n",
       "max       60.000000   1499.000000         29.000000                 4.000000   \n",
       "\n",
       "           JobLevel  JobSatisfaction  MonthlyIncome  PercentSalaryHike  \\\n",
       "count  23294.000000     23294.000000   23294.000000       23294.000000   \n",
       "mean       2.065296         2.726882    6509.941659          15.213875   \n",
       "std        1.105861         1.101402    4707.636587           3.659101   \n",
       "min        1.000000         1.000000    1009.000000          11.000000   \n",
       "25%        1.000000         2.000000    2911.000000          12.000000   \n",
       "50%        2.000000         3.000000    4936.000000          14.000000   \n",
       "75%        3.000000         4.000000    8380.000000          18.000000   \n",
       "max        5.000000         4.000000   19999.000000          25.000000   \n",
       "\n",
       "       PerformanceRating  WorkLifeBalance  YearsAtCompany  YearsInCurrentRole  \\\n",
       "count       23294.000000     23287.000000    23294.000000        23294.000000   \n",
       "mean            3.155147         2.762185        7.014296            4.229973   \n",
       "std             0.362053         0.705404        6.135389            3.628649   \n",
       "min             3.000000         1.000000        0.000000            0.000000   \n",
       "25%             3.000000         2.000000        3.000000            2.000000   \n",
       "50%             3.000000         3.000000        5.000000            3.000000   \n",
       "75%             3.000000         3.000000       10.000000            7.000000   \n",
       "max             4.000000         4.000000       40.000000           22.000000   \n",
       "\n",
       "       YearsSinceLastPromotion  \n",
       "count             23294.000000  \n",
       "mean                  2.183180  \n",
       "std                   3.217174  \n",
       "min                   0.000000  \n",
       "25%                   0.000000  \n",
       "50%                   1.000000  \n",
       "75%                   3.000000  \n",
       "max                  17.000000  "
      ]
     },
     "execution_count": 8,
     "metadata": {},
     "output_type": "execute_result"
    }
   ],
   "source": [
    "df_Final.describe()"
   ]
  },
  {
   "cell_type": "code",
   "execution_count": 20,
   "metadata": {},
   "outputs": [
    {
     "data": {
      "text/plain": [
       "Text(0.5, 6.79999999999999, 'Attrition')"
      ]
     },
     "execution_count": 20,
     "metadata": {},
     "output_type": "execute_result"
    },
    {
     "data": {
      "image/png": "[encoded data removed]",
      "text/plain": [
       "<Figure size 409.5x360 with 1 Axes>"
      ]
     },
     "metadata": {
      "needs_background": "light"
     },
     "output_type": "display_data"
    }
   ],
   "source": [
    "\n",
    "sns.catplot(x='Attrition',hue='JobLevel',data=df_Final,kind='count',height=5)\n",
    "plt.ylabel('JobLevel')\n",
    "plt.xlabel('Attrition')"
   ]
  },
  {
   "cell_type": "code",
   "execution_count": 9,
   "metadata": {},
   "outputs": [
    {
     "name": "stderr",
     "output_type": "stream",
     "text": [
      "/home/shailendra/.pyenv/versions/3.7.5/lib/python3.7/site-packages/seaborn/axisgrid.py:1629: UserWarning: Tight layout not applied. tight_layout cannot make axes width small enough to accommodate all axes decorations\n",
      "  f.tight_layout()\n"
     ]
    },
    {
     "data": {
      "text/plain": [
       "<seaborn.axisgrid.JointGrid at 0x7f9ccf0a4450>"
      ]
     },
     "execution_count": 9,
     "metadata": {},
     "output_type": "execute_result"
    },
    {
     "data": {
      "image/png": "[encoded data removed]",
      "text/plain": [
       "<Figure size 432x432 with 3 Axes>"
      ]
     },
     "metadata": {
      "needs_background": "light"
     },
     "output_type": "display_data"
    }
   ],
   "source": [
    "\n",
    "g = sns.JointGrid(data=df_Final, x=\"MonthlyIncome\", y=\"YearsAtCompany\", space=0, ratio=17)\n",
    "g.plot_joint(sns.scatterplot, size=df_Final[\"YearsAtCompany\"], sizes=(30, 120),\n",
    "             color=\"g\", alpha=.6, legend=False)"
   ]
  },
  {
   "cell_type": "code",
   "execution_count": 10,
   "metadata": {},
   "outputs": [
    {
     "data": {
      "text/plain": [
       "Text(0, 0.5, 'Attrition')"
      ]
     },
     "execution_count": 10,
     "metadata": {},
     "output_type": "execute_result"
    },
    {
     "data": {
      "image/png": "[encoded data removed]",
      "text/plain": [
       "<Figure size 432x288 with 1 Axes>"
      ]
     },
     "metadata": {
      "needs_background": "light"
     },
     "output_type": "display_data"
    }
   ],
   "source": [
    "\n",
    "sns.countplot(x='JobSatisfaction',hue='Attrition',data=df_Final)\n",
    "plt.xlabel('JobSatisfaction')\n",
    "plt.ylabel('Attrition')"
   ]
  },
  {
   "cell_type": "code",
   "execution_count": 62,
   "metadata": {},
   "outputs": [
    {
     "data": {
      "text/plain": [
       "Text(0.5, 0, 'Attrition')"
      ]
     },
     "execution_count": 62,
     "metadata": {},
     "output_type": "execute_result"
    },
    {
     "data": {
      "image/png": "[encoded data removed]",
      "text/plain": [
       "<Figure size 432x288 with 1 Axes>"
      ]
     },
     "metadata": {
      "needs_background": "light"
     },
     "output_type": "display_data"
    }
   ],
   "source": [
    "\n",
    "sns.countplot(x='DailyRate',hue='Attrition',data=df_Final)\n",
    "plt.ylabel('DailyRate')\n",
    "plt.xlabel('Attrition')"
   ]
  },
  {
   "cell_type": "code",
   "execution_count": null,
   "metadata": {},
   "outputs": [],
   "source": []
  },
  {
   "cell_type": "code",
   "execution_count": 32,
   "metadata": {},
   "outputs": [
    {
     "data": {
      "text/plain": [
       "Text(0.5, 0, 'Attrition')"
      ]
     },
     "execution_count": 32,
     "metadata": {},
     "output_type": "execute_result"
    },
    {
     "data": {
      "image/png": "[encoded data removed]",
      "text/plain": [
       "<Figure size 432x288 with 1 Axes>"
      ]
     },
     "metadata": {
      "needs_background": "light"
     },
     "output_type": "display_data"
    }
   ],
   "source": [
    "\n",
    "sns.countplot(x='BusinessTravel',hue='Attrition',data=df_Final)\n",
    "plt.ylabel('BusinessTravel')\n",
    "plt.xlabel('Attrition')"
   ]
  },
  {
   "cell_type": "code",
   "execution_count": 67,
   "metadata": {},
   "outputs": [
    {
     "data": {
      "text/plain": [
       "<seaborn.axisgrid.FacetGrid at 0x7f3c44e60a50>"
      ]
     },
     "execution_count": 67,
     "metadata": {},
     "output_type": "execute_result"
    },
    {
     "data": {
      "image/png": "[encoded data removed]",
      "text/plain": [
       "<Figure size 865.5x360 with 2 Axes>"
      ]
     },
     "metadata": {
      "needs_background": "light"
     },
     "output_type": "display_data"
    }
   ],
   "source": [
    "\n",
    "\n",
    "sns.catplot(x='BusinessTravel',hue='Attrition',col='Gender',kind='count',data=df_Final)\n"
   ]
  },
  {
   "cell_type": "code",
   "execution_count": 35,
   "metadata": {},
   "outputs": [
    {
     "data": {
      "text/plain": [
       "<seaborn.axisgrid.FacetGrid at 0x7f1056cfd490>"
      ]
     },
     "execution_count": 35,
     "metadata": {},
     "output_type": "execute_result"
    },
    {
     "data": {
      "image/png": "[encoded data removed]",
      "text/plain": [
       "<Figure size 865.5x360 with 2 Axes>"
      ]
     },
     "metadata": {
      "needs_background": "light"
     },
     "output_type": "display_data"
    }
   ],
   "source": [
    "\n",
    "sns.catplot(x='JobSatisfaction',hue='Attrition',col='Gender',kind='count',data=df_Final)\n",
    "\n"
   ]
  },
  {
   "cell_type": "code",
   "execution_count": 21,
   "metadata": {},
   "outputs": [
    {
     "data": {
      "text/plain": [
       "<AxesSubplot:title={'center':'Attrition Heatmap'}>"
      ]
     },
     "execution_count": 21,
     "metadata": {},
     "output_type": "execute_result"
    },
    {
     "data": {
      "image/png": "[encoded data removed]",
      "text/plain": [
       "<Figure size 720x576 with 2 Axes>"
      ]
     },
     "metadata": {
      "needs_background": "light"
     },
     "output_type": "display_data"
    }
   ],
   "source": [
    "plt.subplots(figsize=(10,8))\n",
    "ax = plt.axes()\n",
    "ax.set_title(\"Attrition Heatmap\")\n",
    "corr = df_Final.corr()\n",
    "sns.heatmap(corr,xticklabels=corr.columns.values,yticklabels=corr.columns.values, cmap=\"Greens\",linewidths=.5)"
   ]
  },
  {
   "cell_type": "code",
   "execution_count": 53,
   "metadata": {},
   "outputs": [],
   "source": [
    "df_Final=df1.toPandas()"
   ]
  },
  {
   "cell_type": "code",
   "execution_count": null,
   "metadata": {},
   "outputs": [],
   "source": []
  },
  {
   "cell_type": "code",
   "execution_count": 48,
   "metadata": {},
   "outputs": [
    {
     "data": {
      "text/plain": [
       "Age                          int32\n",
       "Attrition                    int64\n",
       "BusinessTravel               int64\n",
       "DailyRate                  float64\n",
       "DistanceFromHome           float64\n",
       "EnvironmentSatisfaction      int32\n",
       "Gender                       int64\n",
       "JobLevel                     int32\n",
       "JobSatisfaction              int32\n",
       "MaritalStatus                int64\n",
       "MonthlyIncome                int32\n",
       "PercentSalaryHike            int32\n",
       "PerformanceRating            int32\n",
       "WorkLifeBalance            float64\n",
       "YearsAtCompany               int32\n",
       "YearsInCurrentRole           int32\n",
       "YearsSinceLastPromotion      int32\n",
       "dtype: object"
      ]
     },
     "execution_count": 48,
     "metadata": {},
     "output_type": "execute_result"
    }
   ],
   "source": [
    "df_Final.dtypes"
   ]
  },
  {
   "cell_type": "code",
   "execution_count": 54,
   "metadata": {},
   "outputs": [],
   "source": [
    "del df_Final['Department']"
   ]
  },
  {
   "cell_type": "code",
   "execution_count": 55,
   "metadata": {},
   "outputs": [],
   "source": [
    "del df_Final['EducationField']"
   ]
  },
  {
   "cell_type": "code",
   "execution_count": 56,
   "metadata": {},
   "outputs": [],
   "source": [
    "df_Final['Age_Years']=df_Final['Age']\n",
    "df_Final=df_Final.drop('Age',axis=1)\n"
   ]
  },
  {
   "cell_type": "code",
   "execution_count": 57,
   "metadata": {},
   "outputs": [
    {
     "data": {
      "text/html": [
       "<div>\n",
       "<style scoped>\n",
       "    .dataframe tbody tr th:only-of-type {\n",
       "        vertical-align: middle;\n",
       "    }\n",
       "\n",
       "    .dataframe tbody tr th {\n",
       "        vertical-align: top;\n",
       "    }\n",
       "\n",
       "    .dataframe thead th {\n",
       "        text-align: right;\n",
       "    }\n",
       "</style>\n",
       "<table border=\"1\" class=\"dataframe\">\n",
       "  <thead>\n",
       "    <tr style=\"text-align: right;\">\n",
       "      <th></th>\n",
       "      <th>Attrition</th>\n",
       "      <th>BusinessTravel</th>\n",
       "      <th>DailyRate</th>\n",
       "      <th>DistanceFromHome</th>\n",
       "      <th>EnvironmentSatisfaction</th>\n",
       "      <th>Gender</th>\n",
       "      <th>JobLevel</th>\n",
       "      <th>JobSatisfaction</th>\n",
       "      <th>MaritalStatus</th>\n",
       "      <th>MonthlyIncome</th>\n",
       "      <th>PercentSalaryHike</th>\n",
       "      <th>PerformanceRating</th>\n",
       "      <th>WorkLifeBalance</th>\n",
       "      <th>YearsAtCompany</th>\n",
       "      <th>YearsInCurrentRole</th>\n",
       "      <th>YearsSinceLastPromotion</th>\n",
       "      <th>Age_Years</th>\n",
       "    </tr>\n",
       "  </thead>\n",
       "  <tbody>\n",
       "    <tr>\n",
       "      <th>0</th>\n",
       "      <td>Current employee</td>\n",
       "      <td>Non-Travel</td>\n",
       "      <td>267.0</td>\n",
       "      <td>10.0</td>\n",
       "      <td>1</td>\n",
       "      <td>Male</td>\n",
       "      <td>2</td>\n",
       "      <td>4</td>\n",
       "      <td>Married</td>\n",
       "      <td>4876</td>\n",
       "      <td>14</td>\n",
       "      <td>3</td>\n",
       "      <td>1.0</td>\n",
       "      <td>3</td>\n",
       "      <td>2</td>\n",
       "      <td>0</td>\n",
       "      <td>41</td>\n",
       "    </tr>\n",
       "    <tr>\n",
       "      <th>1</th>\n",
       "      <td>Current employee</td>\n",
       "      <td>Non-Travel</td>\n",
       "      <td>267.0</td>\n",
       "      <td>10.0</td>\n",
       "      <td>4</td>\n",
       "      <td>Male</td>\n",
       "      <td>2</td>\n",
       "      <td>4</td>\n",
       "      <td>Single</td>\n",
       "      <td>6230</td>\n",
       "      <td>14</td>\n",
       "      <td>3</td>\n",
       "      <td>3.0</td>\n",
       "      <td>14</td>\n",
       "      <td>3</td>\n",
       "      <td>1</td>\n",
       "      <td>41</td>\n",
       "    </tr>\n",
       "    <tr>\n",
       "      <th>2</th>\n",
       "      <td>Current employee</td>\n",
       "      <td>Travel_Rarely</td>\n",
       "      <td>1206.0</td>\n",
       "      <td>23.0</td>\n",
       "      <td>2</td>\n",
       "      <td>Female</td>\n",
       "      <td>2</td>\n",
       "      <td>3</td>\n",
       "      <td>Single</td>\n",
       "      <td>4577</td>\n",
       "      <td>14</td>\n",
       "      <td>3</td>\n",
       "      <td>3.0</td>\n",
       "      <td>2</td>\n",
       "      <td>2</td>\n",
       "      <td>2</td>\n",
       "      <td>41</td>\n",
       "    </tr>\n",
       "    <tr>\n",
       "      <th>3</th>\n",
       "      <td>Current employee</td>\n",
       "      <td>Travel_Rarely</td>\n",
       "      <td>1115.0</td>\n",
       "      <td>1.0</td>\n",
       "      <td>1</td>\n",
       "      <td>Male</td>\n",
       "      <td>2</td>\n",
       "      <td>3</td>\n",
       "      <td>Divorced</td>\n",
       "      <td>5993</td>\n",
       "      <td>18</td>\n",
       "      <td>3</td>\n",
       "      <td>4.0</td>\n",
       "      <td>7</td>\n",
       "      <td>5</td>\n",
       "      <td>0</td>\n",
       "      <td>37</td>\n",
       "    </tr>\n",
       "    <tr>\n",
       "      <th>4</th>\n",
       "      <td>Current employee</td>\n",
       "      <td>Travel_Rarely</td>\n",
       "      <td>589.0</td>\n",
       "      <td>9.0</td>\n",
       "      <td>3</td>\n",
       "      <td>Male</td>\n",
       "      <td>2</td>\n",
       "      <td>1</td>\n",
       "      <td>Married</td>\n",
       "      <td>8396</td>\n",
       "      <td>14</td>\n",
       "      <td>3</td>\n",
       "      <td>2.0</td>\n",
       "      <td>7</td>\n",
       "      <td>7</td>\n",
       "      <td>7</td>\n",
       "      <td>37</td>\n",
       "    </tr>\n",
       "    <tr>\n",
       "      <th>...</th>\n",
       "      <td>...</td>\n",
       "      <td>...</td>\n",
       "      <td>...</td>\n",
       "      <td>...</td>\n",
       "      <td>...</td>\n",
       "      <td>...</td>\n",
       "      <td>...</td>\n",
       "      <td>...</td>\n",
       "      <td>...</td>\n",
       "      <td>...</td>\n",
       "      <td>...</td>\n",
       "      <td>...</td>\n",
       "      <td>...</td>\n",
       "      <td>...</td>\n",
       "      <td>...</td>\n",
       "      <td>...</td>\n",
       "      <td>...</td>\n",
       "    </tr>\n",
       "    <tr>\n",
       "      <th>23289</th>\n",
       "      <td>Current employee</td>\n",
       "      <td>Travel_Rarely</td>\n",
       "      <td>1291.0</td>\n",
       "      <td>15.0</td>\n",
       "      <td>3</td>\n",
       "      <td>Male</td>\n",
       "      <td>4</td>\n",
       "      <td>3</td>\n",
       "      <td>Married</td>\n",
       "      <td>17603</td>\n",
       "      <td>24</td>\n",
       "      <td>4</td>\n",
       "      <td>3.0</td>\n",
       "      <td>14</td>\n",
       "      <td>10</td>\n",
       "      <td>6</td>\n",
       "      <td>43</td>\n",
       "    </tr>\n",
       "    <tr>\n",
       "      <th>23290</th>\n",
       "      <td>Current employee</td>\n",
       "      <td>Travel_Rarely</td>\n",
       "      <td>818.0</td>\n",
       "      <td>6.0</td>\n",
       "      <td>3</td>\n",
       "      <td>Female</td>\n",
       "      <td>1</td>\n",
       "      <td>2</td>\n",
       "      <td>Married</td>\n",
       "      <td>2210</td>\n",
       "      <td>13</td>\n",
       "      <td>3</td>\n",
       "      <td>1.0</td>\n",
       "      <td>1</td>\n",
       "      <td>0</td>\n",
       "      <td>0</td>\n",
       "      <td>59</td>\n",
       "    </tr>\n",
       "    <tr>\n",
       "      <th>23291</th>\n",
       "      <td>Current employee</td>\n",
       "      <td>Travel_Rarely</td>\n",
       "      <td>685.0</td>\n",
       "      <td>3.0</td>\n",
       "      <td>2</td>\n",
       "      <td>Female</td>\n",
       "      <td>2</td>\n",
       "      <td>3</td>\n",
       "      <td>Married</td>\n",
       "      <td>6538</td>\n",
       "      <td>15</td>\n",
       "      <td>3</td>\n",
       "      <td>3.0</td>\n",
       "      <td>3</td>\n",
       "      <td>2</td>\n",
       "      <td>1</td>\n",
       "      <td>54</td>\n",
       "    </tr>\n",
       "    <tr>\n",
       "      <th>23292</th>\n",
       "      <td>Current employee</td>\n",
       "      <td>Travel_Rarely</td>\n",
       "      <td>155.0</td>\n",
       "      <td>9.0</td>\n",
       "      <td>3</td>\n",
       "      <td>Female</td>\n",
       "      <td>1</td>\n",
       "      <td>3</td>\n",
       "      <td>Single</td>\n",
       "      <td>2274</td>\n",
       "      <td>14</td>\n",
       "      <td>3</td>\n",
       "      <td>3.0</td>\n",
       "      <td>1</td>\n",
       "      <td>0</td>\n",
       "      <td>0</td>\n",
       "      <td>54</td>\n",
       "    </tr>\n",
       "    <tr>\n",
       "      <th>23293</th>\n",
       "      <td>Current employee</td>\n",
       "      <td>Travel_Rarely</td>\n",
       "      <td>405.0</td>\n",
       "      <td>1.0</td>\n",
       "      <td>2</td>\n",
       "      <td>Male</td>\n",
       "      <td>2</td>\n",
       "      <td>3</td>\n",
       "      <td>Married</td>\n",
       "      <td>4900</td>\n",
       "      <td>24</td>\n",
       "      <td>4</td>\n",
       "      <td>2.0</td>\n",
       "      <td>12</td>\n",
       "      <td>9</td>\n",
       "      <td>2</td>\n",
       "      <td>57</td>\n",
       "    </tr>\n",
       "  </tbody>\n",
       "</table>\n",
       "<p>23294 rows × 17 columns</p>\n",
       "</div>"
      ],
      "text/plain": [
       "              Attrition BusinessTravel  DailyRate  DistanceFromHome  \\\n",
       "0      Current employee     Non-Travel      267.0              10.0   \n",
       "1      Current employee     Non-Travel      267.0              10.0   \n",
       "2      Current employee  Travel_Rarely     1206.0              23.0   \n",
       "3      Current employee  Travel_Rarely     1115.0               1.0   \n",
       "4      Current employee  Travel_Rarely      589.0               9.0   \n",
       "...                 ...            ...        ...               ...   \n",
       "23289  Current employee  Travel_Rarely     1291.0              15.0   \n",
       "23290  Current employee  Travel_Rarely      818.0               6.0   \n",
       "23291  Current employee  Travel_Rarely      685.0               3.0   \n",
       "23292  Current employee  Travel_Rarely      155.0               9.0   \n",
       "23293  Current employee  Travel_Rarely      405.0               1.0   \n",
       "\n",
       "       EnvironmentSatisfaction  Gender  JobLevel  JobSatisfaction  \\\n",
       "0                            1    Male         2                4   \n",
       "1                            4    Male         2                4   \n",
       "2                            2  Female         2                3   \n",
       "3                            1    Male         2                3   \n",
       "4                            3    Male         2                1   \n",
       "...                        ...     ...       ...              ...   \n",
       "23289                        3    Male         4                3   \n",
       "23290                        3  Female         1                2   \n",
       "23291                        2  Female         2                3   \n",
       "23292                        3  Female         1                3   \n",
       "23293                        2    Male         2                3   \n",
       "\n",
       "      MaritalStatus  MonthlyIncome  PercentSalaryHike  PerformanceRating  \\\n",
       "0           Married           4876                 14                  3   \n",
       "1            Single           6230                 14                  3   \n",
       "2            Single           4577                 14                  3   \n",
       "3          Divorced           5993                 18                  3   \n",
       "4           Married           8396                 14                  3   \n",
       "...             ...            ...                ...                ...   \n",
       "23289       Married          17603                 24                  4   \n",
       "23290       Married           2210                 13                  3   \n",
       "23291       Married           6538                 15                  3   \n",
       "23292        Single           2274                 14                  3   \n",
       "23293       Married           4900                 24                  4   \n",
       "\n",
       "       WorkLifeBalance  YearsAtCompany  YearsInCurrentRole  \\\n",
       "0                  1.0               3                   2   \n",
       "1                  3.0              14                   3   \n",
       "2                  3.0               2                   2   \n",
       "3                  4.0               7                   5   \n",
       "4                  2.0               7                   7   \n",
       "...                ...             ...                 ...   \n",
       "23289              3.0              14                  10   \n",
       "23290              1.0               1                   0   \n",
       "23291              3.0               3                   2   \n",
       "23292              3.0               1                   0   \n",
       "23293              2.0              12                   9   \n",
       "\n",
       "       YearsSinceLastPromotion  Age_Years  \n",
       "0                            0         41  \n",
       "1                            1         41  \n",
       "2                            2         41  \n",
       "3                            0         37  \n",
       "4                            7         37  \n",
       "...                        ...        ...  \n",
       "23289                        6         43  \n",
       "23290                        0         59  \n",
       "23291                        1         54  \n",
       "23292                        0         54  \n",
       "23293                        2         57  \n",
       "\n",
       "[23294 rows x 17 columns]"
      ]
     },
     "execution_count": 57,
     "metadata": {},
     "output_type": "execute_result"
    }
   ],
   "source": [
    "df_Final"
   ]
  },
  {
   "cell_type": "code",
   "execution_count": 58,
   "metadata": {},
   "outputs": [
    {
     "data": {
      "text/html": [
       "<div>\n",
       "<style scoped>\n",
       "    .dataframe tbody tr th:only-of-type {\n",
       "        vertical-align: middle;\n",
       "    }\n",
       "\n",
       "    .dataframe tbody tr th {\n",
       "        vertical-align: top;\n",
       "    }\n",
       "\n",
       "    .dataframe thead th {\n",
       "        text-align: right;\n",
       "    }\n",
       "</style>\n",
       "<table border=\"1\" class=\"dataframe\">\n",
       "  <thead>\n",
       "    <tr style=\"text-align: right;\">\n",
       "      <th></th>\n",
       "      <th>Attrition</th>\n",
       "      <th>BusinessTravel</th>\n",
       "      <th>DailyRate</th>\n",
       "      <th>DistanceFromHome</th>\n",
       "      <th>EnvironmentSatisfaction</th>\n",
       "      <th>Gender</th>\n",
       "      <th>JobLevel</th>\n",
       "      <th>JobSatisfaction</th>\n",
       "      <th>MaritalStatus</th>\n",
       "      <th>MonthlyIncome</th>\n",
       "      <th>PercentSalaryHike</th>\n",
       "      <th>PerformanceRating</th>\n",
       "      <th>WorkLifeBalance</th>\n",
       "      <th>YearsAtCompany</th>\n",
       "      <th>YearsInCurrentRole</th>\n",
       "      <th>YearsSinceLastPromotion</th>\n",
       "      <th>Age_Years</th>\n",
       "    </tr>\n",
       "  </thead>\n",
       "  <tbody>\n",
       "    <tr>\n",
       "      <th>0</th>\n",
       "      <td>1</td>\n",
       "      <td>0</td>\n",
       "      <td>267.0</td>\n",
       "      <td>10.0</td>\n",
       "      <td>1</td>\n",
       "      <td>0</td>\n",
       "      <td>2</td>\n",
       "      <td>4</td>\n",
       "      <td>2</td>\n",
       "      <td>4876</td>\n",
       "      <td>14</td>\n",
       "      <td>3</td>\n",
       "      <td>1.0</td>\n",
       "      <td>3</td>\n",
       "      <td>2</td>\n",
       "      <td>0</td>\n",
       "      <td>41</td>\n",
       "    </tr>\n",
       "    <tr>\n",
       "      <th>1</th>\n",
       "      <td>1</td>\n",
       "      <td>0</td>\n",
       "      <td>267.0</td>\n",
       "      <td>10.0</td>\n",
       "      <td>4</td>\n",
       "      <td>0</td>\n",
       "      <td>2</td>\n",
       "      <td>4</td>\n",
       "      <td>1</td>\n",
       "      <td>6230</td>\n",
       "      <td>14</td>\n",
       "      <td>3</td>\n",
       "      <td>3.0</td>\n",
       "      <td>14</td>\n",
       "      <td>3</td>\n",
       "      <td>1</td>\n",
       "      <td>41</td>\n",
       "    </tr>\n",
       "    <tr>\n",
       "      <th>2</th>\n",
       "      <td>1</td>\n",
       "      <td>0</td>\n",
       "      <td>1206.0</td>\n",
       "      <td>23.0</td>\n",
       "      <td>2</td>\n",
       "      <td>1</td>\n",
       "      <td>2</td>\n",
       "      <td>3</td>\n",
       "      <td>1</td>\n",
       "      <td>4577</td>\n",
       "      <td>14</td>\n",
       "      <td>3</td>\n",
       "      <td>3.0</td>\n",
       "      <td>2</td>\n",
       "      <td>2</td>\n",
       "      <td>2</td>\n",
       "      <td>41</td>\n",
       "    </tr>\n",
       "  </tbody>\n",
       "</table>\n",
       "</div>"
      ],
      "text/plain": [
       "   Attrition  BusinessTravel  DailyRate  DistanceFromHome  \\\n",
       "0          1               0      267.0              10.0   \n",
       "1          1               0      267.0              10.0   \n",
       "2          1               0     1206.0              23.0   \n",
       "\n",
       "   EnvironmentSatisfaction  Gender  JobLevel  JobSatisfaction  MaritalStatus  \\\n",
       "0                        1       0         2                4              2   \n",
       "1                        4       0         2                4              1   \n",
       "2                        2       1         2                3              1   \n",
       "\n",
       "   MonthlyIncome  PercentSalaryHike  PerformanceRating  WorkLifeBalance  \\\n",
       "0           4876                 14                  3              1.0   \n",
       "1           6230                 14                  3              3.0   \n",
       "2           4577                 14                  3              3.0   \n",
       "\n",
       "   YearsAtCompany  YearsInCurrentRole  YearsSinceLastPromotion  Age_Years  \n",
       "0               3                   2                        0         41  \n",
       "1              14                   3                        1         41  \n",
       "2               2                   2                        2         41  "
      ]
     },
     "execution_count": 58,
     "metadata": {},
     "output_type": "execute_result"
    }
   ],
   "source": [
    "#mapping non-numeric values to numeric values\n",
    "\n",
    "IBM_Attrition = df_Final\n",
    "YN_mapping = {\"Voluntary Resignation\": 0, \"Current employee\": 1}\n",
    "IBM_Attrition['Attrition'] = IBM_Attrition['Attrition'].map(YN_mapping)\n",
    "BusinessTravel_mapping = {\"Travel_Rarely\": 0, \"Travel_Frequently\": 1, \"Non-Travel\": 0}\n",
    "IBM_Attrition['BusinessTravel'] = IBM_Attrition['BusinessTravel'].map(BusinessTravel_mapping)\n",
    "Gender_mapping = {\"Female\": 1, \"Male\": 0}\n",
    "IBM_Attrition['Gender'] = IBM_Attrition['Gender'].map(Gender_mapping)\n",
    "Marital_mapping = {\"Married\": 2,\"Single\":1,\"Divorced\":0}\n",
    "IBM_Attrition['MaritalStatus'] = IBM_Attrition['MaritalStatus'].map(Marital_mapping)\n",
    "\n",
    "IBM_Attrition.head(3)"
   ]
  },
  {
   "cell_type": "code",
   "execution_count": 59,
   "metadata": {},
   "outputs": [
    {
     "data": {
      "text/plain": [
       "Attrition                    int64\n",
       "BusinessTravel               int64\n",
       "DailyRate                  float64\n",
       "DistanceFromHome           float64\n",
       "EnvironmentSatisfaction      int32\n",
       "Gender                       int64\n",
       "JobLevel                     int32\n",
       "JobSatisfaction              int32\n",
       "MaritalStatus                int64\n",
       "MonthlyIncome                int32\n",
       "PercentSalaryHike            int32\n",
       "PerformanceRating            int32\n",
       "WorkLifeBalance            float64\n",
       "YearsAtCompany               int32\n",
       "YearsInCurrentRole           int32\n",
       "YearsSinceLastPromotion      int32\n",
       "Age_Years                    int32\n",
       "dtype: object"
      ]
     },
     "execution_count": 59,
     "metadata": {},
     "output_type": "execute_result"
    }
   ],
   "source": [
    "IBM_Attrition.dtypes"
   ]
  },
  {
   "cell_type": "code",
   "execution_count": 60,
   "metadata": {},
   "outputs": [],
   "source": [
    "from sklearn.model_selection import train_test_split\n",
    "\n",
    "IBM_Attrition=IBM_Attrition.dropna()\n",
    "predictors = IBM_Attrition.drop(['Attrition'],axis=1)\n",
    "target = IBM_Attrition[\"Attrition\"]\n",
    "x_train, x_val, y_train, y_val = train_test_split(predictors, target, test_size = 0.22, random_state = 0)"
   ]
  },
  {
   "cell_type": "code",
   "execution_count": 61,
   "metadata": {},
   "outputs": [
    {
     "data": {
      "text/plain": [
       "BusinessTravel               int64\n",
       "DailyRate                  float64\n",
       "DistanceFromHome           float64\n",
       "EnvironmentSatisfaction      int32\n",
       "Gender                       int64\n",
       "JobLevel                     int32\n",
       "JobSatisfaction              int32\n",
       "MaritalStatus                int64\n",
       "MonthlyIncome                int32\n",
       "PercentSalaryHike            int32\n",
       "PerformanceRating            int32\n",
       "WorkLifeBalance            float64\n",
       "YearsAtCompany               int32\n",
       "YearsInCurrentRole           int32\n",
       "YearsSinceLastPromotion      int32\n",
       "Age_Years                    int32\n",
       "dtype: object"
      ]
     },
     "execution_count": 61,
     "metadata": {},
     "output_type": "execute_result"
    }
   ],
   "source": [
    "predictors.dtypes"
   ]
  },
  {
   "cell_type": "code",
   "execution_count": 62,
   "metadata": {},
   "outputs": [
    {
     "name": "stdout",
     "output_type": "stream",
     "text": [
      "83.89\n"
     ]
    },
    {
     "name": "stderr",
     "output_type": "stream",
     "text": [
      "/home/shailendra/.pyenv/versions/3.7.5/lib/python3.7/site-packages/sklearn/linear_model/_logistic.py:764: ConvergenceWarning: lbfgs failed to converge (status=1):\n",
      "STOP: TOTAL NO. of ITERATIONS REACHED LIMIT.\n",
      "\n",
      "Increase the number of iterations (max_iter) or scale the data as shown in:\n",
      "    https://scikit-learn.org/stable/modules/preprocessing.html\n",
      "Please also refer to the documentation for alternative solver options:\n",
      "    https://scikit-learn.org/stable/modules/linear_model.html#logistic-regression\n",
      "  extra_warning_msg=_LOGISTIC_SOLVER_CONVERGENCE_MSG)\n"
     ]
    }
   ],
   "source": [
    "from sklearn.metrics import accuracy_score\n",
    "from sklearn.linear_model import LogisticRegression\n",
    "\n",
    "logreg = LogisticRegression()\n",
    "logreg.fit(x_train, y_train)\n",
    "y_pred = logreg.predict(x_val)\n",
    "acc_logreg = round(accuracy_score(y_pred, y_val) * 100, 2)\n",
    "print(acc_logreg)"
   ]
  },
  {
   "cell_type": "code",
   "execution_count": 63,
   "metadata": {},
   "outputs": [
    {
     "data": {
      "text/plain": [
       "array([[   0,  825],\n",
       "       [   0, 4296]])"
      ]
     },
     "execution_count": 63,
     "metadata": {},
     "output_type": "execute_result"
    }
   ],
   "source": [
    "from sklearn import metrics\n",
    "cnf_matrix = metrics.confusion_matrix(y_val, y_pred)\n",
    "cnf_matrix"
   ]
  },
  {
   "cell_type": "code",
   "execution_count": 64,
   "metadata": {},
   "outputs": [],
   "source": [
    "import numpy as np\n",
    "import matplotlib.pyplot as plt\n",
    "import seaborn as sns\n",
    "import pandas as pd"
   ]
  },
  {
   "cell_type": "code",
   "execution_count": 65,
   "metadata": {},
   "outputs": [
    {
     "data": {
      "text/plain": [
       "Text(0.5, 257.44, 'Predicted label')"
      ]
     },
     "execution_count": 65,
     "metadata": {},
     "output_type": "execute_result"
    },
    {
     "data": {
      "image/png": "[encoded data removed]",
      "text/plain": [
       "<Figure size 432x288 with 2 Axes>"
      ]
     },
     "metadata": {
      "needs_background": "light"
     },
     "output_type": "display_data"
    }
   ],
   "source": [
    "class_names=[0,1] # name  of classes\n",
    "fig, ax = plt.subplots()\n",
    "tick_marks = np.arange(len(class_names))\n",
    "plt.xticks(tick_marks, class_names)\n",
    "plt.yticks(tick_marks, class_names)\n",
    "# create heatmap\n",
    "sns.heatmap(pd.DataFrame(cnf_matrix), annot=True, cmap=\"YlGnBu\" ,fmt='g')\n",
    "ax.xaxis.set_label_position(\"top\")\n",
    "plt.tight_layout()\n",
    "plt.title('Confusion matrix', y=1.1)\n",
    "plt.ylabel('Actual label')\n",
    "plt.xlabel('Predicted label')"
   ]
  },
  {
   "cell_type": "code",
   "execution_count": 66,
   "metadata": {},
   "outputs": [
    {
     "name": "stdout",
     "output_type": "stream",
     "text": [
      "Accuracy: 0.8388986526069128\n",
      "Precision: 0.8388986526069128\n",
      "Recall: 1.0\n"
     ]
    }
   ],
   "source": [
    "print(\"Accuracy:\",metrics.accuracy_score(y_val, y_pred))\n",
    "print(\"Precision:\",metrics.precision_score(y_val, y_pred))\n",
    "print(\"Recall:\",metrics.recall_score(y_val, y_pred))"
   ]
  },
  {
   "cell_type": "code",
   "execution_count": 67,
   "metadata": {},
   "outputs": [
    {
     "data": {
      "image/png": "[encoded data removed]",
      "text/plain": [
       "<Figure size 432x288 with 1 Axes>"
      ]
     },
     "metadata": {
      "needs_background": "light"
     },
     "output_type": "display_data"
    }
   ],
   "source": [
    "y_pred_proba = logreg.predict_proba(x_val)[::,1]\n",
    "fpr, tpr, _ = metrics.roc_curve(y_val,  y_pred_proba)\n",
    "auc = metrics.roc_auc_score(y_val, y_pred_proba)\n",
    "plt.plot(fpr,tpr,label=\"data 1, auc=\"+str(auc))\n",
    "plt.legend(loc=4)\n",
    "plt.show()"
   ]
  },
  {
   "cell_type": "code",
   "execution_count": 68,
   "metadata": {},
   "outputs": [
    {
     "name": "stdout",
     "output_type": "stream",
     "text": [
      "99.92\n"
     ]
    }
   ],
   "source": [
    "from sklearn.ensemble import RandomForestClassifier\n",
    "from sklearn.metrics import accuracy_score\n",
    "\n",
    "randomforest = RandomForestClassifier()\n",
    "randomforest.fit(x_train, y_train)\n",
    "y_pred = randomforest.predict(x_val)\n",
    "acc_randomforest = round(accuracy_score(y_pred, y_val) * 100, 2)\n",
    "print(acc_randomforest)"
   ]
  },
  {
   "cell_type": "code",
   "execution_count": 69,
   "metadata": {},
   "outputs": [
    {
     "data": {
      "text/plain": [
       "0.999779650746433"
      ]
     },
     "execution_count": 69,
     "metadata": {},
     "output_type": "execute_result"
    }
   ],
   "source": [
    "from sklearn.ensemble import RandomForestClassifier\n",
    "forest= RandomForestClassifier(n_estimators=10, criterion='entropy',random_state=0)\n",
    "forest.fit(x_train,y_train)\n",
    "forest.score(x_train,y_train)"
   ]
  },
  {
   "cell_type": "code",
   "execution_count": 70,
   "metadata": {},
   "outputs": [
    {
     "name": "stdout",
     "output_type": "stream",
     "text": [
      "[[ 2845     4]\n",
      " [    0 15304]]\n"
     ]
    }
   ],
   "source": [
    "from sklearn.metrics import confusion_matrix\n",
    "cm=confusion_matrix(y_train,forest.predict(x_train))\n",
    "print(cm)\n"
   ]
  },
  {
   "cell_type": "code",
   "execution_count": 71,
   "metadata": {},
   "outputs": [
    {
     "name": "stdout",
     "output_type": "stream",
     "text": [
      "Model Testing Accuracy = \"0.9998347380598248!\"\n",
      "\n"
     ]
    }
   ],
   "source": [
    "print('Model Testing Accuracy = \"{}!\"'.format(  (2846 + 15304) / (2846 + 15304 + 3 + 0)))\n",
    "print()"
   ]
  },
  {
   "cell_type": "code",
   "execution_count": null,
   "metadata": {},
   "outputs": [],
   "source": []
  },
  {
   "cell_type": "code",
   "execution_count": 72,
   "metadata": {},
   "outputs": [
    {
     "name": "stdout",
     "output_type": "stream",
     "text": [
      "              precision    recall  f1-score   support\n",
      "\n",
      "           0       1.00      1.00      1.00       825\n",
      "           1       1.00      1.00      1.00      4296\n",
      "\n",
      "    accuracy                           1.00      5121\n",
      "   macro avg       1.00      1.00      1.00      5121\n",
      "weighted avg       1.00      1.00      1.00      5121\n",
      "\n"
     ]
    }
   ],
   "source": [
    "from sklearn.metrics import classification_report\n",
    "print(classification_report(y_val,y_pred))"
   ]
  },
  {
   "cell_type": "code",
   "execution_count": 73,
   "metadata": {},
   "outputs": [
    {
     "data": {
      "image/png": "[encoded data removed]",
      "text/plain": [
       "<Figure size 432x288 with 1 Axes>"
      ]
     },
     "metadata": {
      "needs_background": "light"
     },
     "output_type": "display_data"
    }
   ],
   "source": [
    "from sklearn import metrics\n",
    "cnf_matrix = metrics.confusion_matrix(y_val, y_pred)\n",
    "y_pred_proba = logreg.predict_proba(x_val)[::,1]\n",
    "fpr, tpr, _ = metrics.roc_curve(y_val,  y_pred_proba)\n",
    "auc = metrics.roc_auc_score(y_val, y_pred_proba)\n",
    "plt.plot(fpr,tpr,label=\"data 1, auc=\"+str(auc))\n",
    "plt.legend(loc=4)\n",
    "plt.show()"
   ]
  },
  {
   "cell_type": "code",
   "execution_count": 74,
   "metadata": {},
   "outputs": [
    {
     "data": {
      "text/html": [
       "<div>\n",
       "<style scoped>\n",
       "    .dataframe tbody tr th:only-of-type {\n",
       "        vertical-align: middle;\n",
       "    }\n",
       "\n",
       "    .dataframe tbody tr th {\n",
       "        vertical-align: top;\n",
       "    }\n",
       "\n",
       "    .dataframe thead th {\n",
       "        text-align: right;\n",
       "    }\n",
       "</style>\n",
       "<table border=\"1\" class=\"dataframe\">\n",
       "  <thead>\n",
       "    <tr style=\"text-align: right;\">\n",
       "      <th></th>\n",
       "      <th>Importance</th>\n",
       "    </tr>\n",
       "    <tr>\n",
       "      <th>Feature</th>\n",
       "      <th></th>\n",
       "    </tr>\n",
       "  </thead>\n",
       "  <tbody>\n",
       "    <tr>\n",
       "      <th>DailyRate</th>\n",
       "      <td>0.172</td>\n",
       "    </tr>\n",
       "    <tr>\n",
       "      <th>Age_Years</th>\n",
       "      <td>0.160</td>\n",
       "    </tr>\n",
       "    <tr>\n",
       "      <th>MonthlyIncome</th>\n",
       "      <td>0.128</td>\n",
       "    </tr>\n",
       "    <tr>\n",
       "      <th>DistanceFromHome</th>\n",
       "      <td>0.099</td>\n",
       "    </tr>\n",
       "    <tr>\n",
       "      <th>PercentSalaryHike</th>\n",
       "      <td>0.075</td>\n",
       "    </tr>\n",
       "    <tr>\n",
       "      <th>YearsAtCompany</th>\n",
       "      <td>0.067</td>\n",
       "    </tr>\n",
       "    <tr>\n",
       "      <th>YearsInCurrentRole</th>\n",
       "      <td>0.049</td>\n",
       "    </tr>\n",
       "    <tr>\n",
       "      <th>YearsSinceLastPromotion</th>\n",
       "      <td>0.044</td>\n",
       "    </tr>\n",
       "    <tr>\n",
       "      <th>JobSatisfaction</th>\n",
       "      <td>0.041</td>\n",
       "    </tr>\n",
       "    <tr>\n",
       "      <th>EnvironmentSatisfaction</th>\n",
       "      <td>0.039</td>\n",
       "    </tr>\n",
       "    <tr>\n",
       "      <th>WorkLifeBalance</th>\n",
       "      <td>0.032</td>\n",
       "    </tr>\n",
       "    <tr>\n",
       "      <th>MaritalStatus</th>\n",
       "      <td>0.030</td>\n",
       "    </tr>\n",
       "    <tr>\n",
       "      <th>JobLevel</th>\n",
       "      <td>0.023</td>\n",
       "    </tr>\n",
       "    <tr>\n",
       "      <th>BusinessTravel</th>\n",
       "      <td>0.022</td>\n",
       "    </tr>\n",
       "    <tr>\n",
       "      <th>Gender</th>\n",
       "      <td>0.018</td>\n",
       "    </tr>\n",
       "    <tr>\n",
       "      <th>PerformanceRating</th>\n",
       "      <td>0.002</td>\n",
       "    </tr>\n",
       "  </tbody>\n",
       "</table>\n",
       "</div>"
      ],
      "text/plain": [
       "                         Importance\n",
       "Feature                            \n",
       "DailyRate                     0.172\n",
       "Age_Years                     0.160\n",
       "MonthlyIncome                 0.128\n",
       "DistanceFromHome              0.099\n",
       "PercentSalaryHike             0.075\n",
       "YearsAtCompany                0.067\n",
       "YearsInCurrentRole            0.049\n",
       "YearsSinceLastPromotion       0.044\n",
       "JobSatisfaction               0.041\n",
       "EnvironmentSatisfaction       0.039\n",
       "WorkLifeBalance               0.032\n",
       "MaritalStatus                 0.030\n",
       "JobLevel                      0.023\n",
       "BusinessTravel                0.022\n",
       "Gender                        0.018\n",
       "PerformanceRating             0.002"
      ]
     },
     "execution_count": 74,
     "metadata": {},
     "output_type": "execute_result"
    }
   ],
   "source": [
    "\n",
    "importances = pd.DataFrame({'Feature':IBM_Attrition.iloc[:, 1:IBM_Attrition.shape[1]].columns,'Importance':np.round(forest.feature_importances_,3)}) #Note: The target column is at position 0\n",
    "importances = importances.sort_values('Importance',ascending=False).set_index('Feature')\n",
    "importances"
   ]
  },
  {
   "cell_type": "code",
   "execution_count": 75,
   "metadata": {},
   "outputs": [
    {
     "data": {
      "text/plain": [
       "<AxesSubplot:xlabel='Feature'>"
      ]
     },
     "execution_count": 75,
     "metadata": {},
     "output_type": "execute_result"
    },
    {
     "data": {
      "image/png": "[encoded data removed]",
      "text/plain": [
       "<Figure size 432x288 with 1 Axes>"
      ]
     },
     "metadata": {
      "needs_background": "light"
     },
     "output_type": "display_data"
    }
   ],
   "source": [
    "importances.plot.bar()"
   ]
  },
  {
   "cell_type": "code",
   "execution_count": null,
   "metadata": {},
   "outputs": [],
   "source": []
  }
 ],
 "metadata": {
  "kernelspec": {
   "display_name": "Python 3",
   "language": "python",
   "name": "python3"
  },
  "language_info": {
   "codemirror_mode": {
    "name": "ipython",
    "version": 3
   },
   "file_extension": ".py",
   "mimetype": "text/x-python",
   "name": "python",
   "nbconvert_exporter": "python",
   "pygments_lexer": "ipython3",
   "version": "3.7.5"
  }
 },
 "nbformat": 4,
 "nbformat_minor": 4
}
